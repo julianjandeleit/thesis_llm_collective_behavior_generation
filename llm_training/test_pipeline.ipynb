{
 "cells": [
  {
   "cell_type": "code",
   "execution_count": 13,
   "metadata": {},
   "outputs": [
    {
     "name": "stderr",
     "output_type": "stream",
     "text": [
      "Note: Environment variable`HF_TOKEN` is set and is the current active token independently from the token you've just configured.\n"
     ]
    },
    {
     "name": "stdout",
     "output_type": "stream",
     "text": [
      "The autoreload extension is already loaded. To reload it, use:\n",
      "  %reload_ext autoreload\n"
     ]
    }
   ],
   "source": [
    "%load_ext autoreload\n",
    "%autoreload 2"
   ]
  },
  {
   "cell_type": "code",
   "execution_count": 14,
   "metadata": {},
   "outputs": [],
   "source": [
    "from pipeline import MLPipeline, generate_prompt\n",
    "\n",
    "pipeline = MLPipeline()"
   ]
  },
  {
   "cell_type": "code",
   "execution_count": 15,
   "metadata": {},
   "outputs": [
    {
     "data": {
      "text/plain": [
       "{'max_seq_length': 2000,\n",
       " 'num_train_epochs': 1,\n",
       " 'per_device_train_batch_size': 1,\n",
       " 'gradient_accumulation_steps': 8,\n",
       " 'optim': 'paged_adamw_32bit',\n",
       " 'save_steps': 0,\n",
       " 'logging_steps': 25,\n",
       " 'learning_rate': 0.0002,\n",
       " 'weight_decay': 0.001,\n",
       " 'bf16': False,\n",
       " 'max_grad_norm': 0.3,\n",
       " 'max_steps': -1,\n",
       " 'warmup_ratio': 0.03,\n",
       " 'group_by_length': True,\n",
       " 'lr_scheduler_type': 'cosine',\n",
       " 'report_to': 'none',\n",
       " 'eval_strategy': 'epoch'}"
      ]
     },
     "execution_count": 15,
     "metadata": {},
     "output_type": "execute_result"
    }
   ],
   "source": [
    "sft_config_params = pipeline.sft_default_config\n",
    "sft_config_params"
   ]
  },
  {
   "cell_type": "code",
   "execution_count": 16,
   "metadata": {},
   "outputs": [],
   "source": [
    "#pipeline.train_pipeline(\"../ressources/automode_descriptions_evaluated.pickle\", generate_prompt, \"test_model\", sft_config_params)"
   ]
  },
  {
   "cell_type": "code",
   "execution_count": 17,
   "metadata": {},
   "outputs": [
    {
     "name": "stderr",
     "output_type": "stream",
     "text": [
      "`low_cpu_mem_usage` was None, now default to True since model is quantized.\n",
      "Loading checkpoint shards: 100%|██████████| 6/6 [00:33<00:00,  5.66s/it]\n"
     ]
    }
   ],
   "source": [
    "pipeline.prepare_model()"
   ]
  },
  {
   "cell_type": "code",
   "execution_count": 18,
   "metadata": {},
   "outputs": [
    {
     "name": "stderr",
     "output_type": "stream",
     "text": [
      "`low_cpu_mem_usage` was None, now default to True since model is quantized.\n",
      "Loading checkpoint shards: 100%|██████████| 6/6 [00:21<00:00,  3.52s/it]\n"
     ]
    },
    {
     "data": {
      "text/plain": [
       "\"<s>[INST] The environment is a circle made out of 15 walls. The space is lit with 2 lights evenly distributed. Positions are ((-1.13, -1.42), (-1.85, 1.74)). Within a 1.80-meter radius from the center, 10 robots are uniformly distributed. The goal is for the robots to aggregate at the white circle. There are two areas on the floor: a circle at [-2.36, -0.88] with a radius of 1.26 meters in white, and another circle at [-0.30, -0.23] with a radius of 1.36 meters in black. \\nGenerate the behavior tree that achieves the objective of this mission.[/INST] Sure, here's a basic behavior tree that could achieve the objective of this mission:\\n\\n1. **Start**: This is the initial state where the robots are uniformly distributed within a 1.80-meter radius from the center.\\n\\n2. **Detect White Circle**: The robots need to detect the white circle at [-2.36, -0.88] with a radius of 1.26 meters. This could be achieved by using sensors to detect the color and shape of the circle.\\n\\n3. **Move Towards White Circle**: Once the white circle is detected, the robots should move towards it. This could be achieved by using a pathfinding algorithm to navigate towards the circle.\\n\\n4. **Aggregate at White Circle**: Once the robots reach the white circle, they should aggregate at the center of the circle. This could be achieved by using a formation control algorithm to maintain a specific formation.\\n\\n5. **Detect Black Circle**: The robots need to detect the black circle at [-0.30, -0.23] with a radius of 1.36 meters. This could be achieved by using sensors to detect the color and shape of the circle.\\n\\n6. **Move Away from Black Circle**: Once the black circle is detected, the robots should move away from it. This could be achieved by using a pathfinding algorithm to navigate away from the circle.\\n\\n7. **End**: This is the final state where the robots have successfully completed the mission.</s>\""
      ]
     },
     "execution_count": 18,
     "metadata": {},
     "output_type": "execute_result"
    }
   ],
   "source": [
    "inf_text = \"\"\"[INST] The environment is a circle made out of 15 walls. The space is lit with 2 lights evenly distributed. Positions are ((-1.13, -1.42), (-1.85, 1.74)). Within a 1.80-meter radius from the center, 10 robots are uniformly distributed. The goal is for the robots to aggregate at the white circle. There are two areas on the floor: a circle at [-2.36, -0.88] with a radius of 1.26 meters in white, and another circle at [-0.30, -0.23] with a radius of 1.36 meters in black. \n",
    "Generate the behavior tree that achieves the objective of this mission.[/INST]\"\"\"\n",
    "output_txt = pipeline.inference(inf_text, \"test_model\")\n",
    "output_txt"
   ]
  },
  {
   "cell_type": "code",
   "execution_count": 19,
   "metadata": {},
   "outputs": [
    {
     "data": {
      "text/plain": [
       "\"<s>[INST] The environment is a circle made out of 15 walls. The space is lit with 2 lights evenly distributed. Positions are ((-1.13, -1.42), (-1.85, 1.74)). Within a 1.80-meter radius from the center, 10 robots are uniformly distributed. The goal is for the robots to aggregate at the white circle. There are two areas on the floor: a circle at [-2.36, -0.88] with a radius of 1.26 meters in white, and another circle at [-0.30, -0.23] with a radius of 1.36 meters in black. \\nGenerate the behavior tree that achieves the objective of this mission.[/INST] Sure, here's a basic behavior tree that could achieve the objective of this mission:\\n\\n1. **Start**: This is the initial state where the robots are uniformly distributed within a 1.80-meter radius from the center.\\n\\n2. **Detect White Circle**: The robots need to detect the white circle at [-2.36, -0.88] with a radius of 1.26 meters. This could be achieved by using sensors to detect the color and shape of the circle.\\n\\n3. **Move Towards White Circle**: Once the white circle is detected, the robots should move towards it. This could be achieved by using a pathfinding algorithm to navigate towards the circle.\\n\\n4. **Aggregate at White Circle**: Once the robots reach the white circle, they should aggregate at the center of the circle. This could be achieved by using a formation control algorithm to maintain a specific formation.\\n\\n5. **Detect Black Circle**: The robots need to detect the black circle at [-0.30, -0.23] with a radius of 1.36 meters. This could be achieved by using sensors to detect the color and shape of the circle.\\n\\n6. **Move Away from Black Circle**: Once the black circle is detected, the robots should move away from it. This could be achieved by using a pathfinding algorithm to navigate away from the circle.\\n\\n7. **End**: This is the final state where the robots have successfully completed the mission.</s>\""
      ]
     },
     "execution_count": 19,
     "metadata": {},
     "output_type": "execute_result"
    }
   ],
   "source": [
    "output_txt"
   ]
  }
 ],
 "metadata": {
  "kernelspec": {
   "display_name": "Python 3",
   "language": "python",
   "name": "python3"
  },
  "language_info": {
   "codemirror_mode": {
    "name": "ipython",
    "version": 3
   },
   "file_extension": ".py",
   "mimetype": "text/x-python",
   "name": "python",
   "nbconvert_exporter": "python",
   "pygments_lexer": "ipython3",
   "version": "3.10.0"
  }
 },
 "nbformat": 4,
 "nbformat_minor": 2
}
