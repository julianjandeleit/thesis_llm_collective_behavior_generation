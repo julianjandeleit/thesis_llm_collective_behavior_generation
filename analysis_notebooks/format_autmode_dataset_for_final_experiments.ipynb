{
 "cells": [
  {
   "cell_type": "code",
   "execution_count": 1,
   "metadata": {},
   "outputs": [],
   "source": [
    "%load_ext autoreload\n",
    "%autoreload 2"
   ]
  },
  {
   "cell_type": "code",
   "execution_count": 2,
   "metadata": {},
   "outputs": [],
   "source": [
    "%mkdir -p ../ressources/final_experiments/automode_datasets"
   ]
  },
  {
   "cell_type": "code",
   "execution_count": 3,
   "metadata": {},
   "outputs": [],
   "source": [
    "import pandas as pd\n",
    "import numpy as np\n",
    "import pickle\n",
    "import random\n",
    "random.seed(42)\n",
    "np.random.seed(42)"
   ]
  },
  {
   "cell_type": "code",
   "execution_count": 4,
   "metadata": {},
   "outputs": [
    {
     "data": {
      "text/html": [
       "<div>\n",
       "<style scoped>\n",
       "    .dataframe tbody tr th:only-of-type {\n",
       "        vertical-align: middle;\n",
       "    }\n",
       "\n",
       "    .dataframe tbody tr th {\n",
       "        vertical-align: top;\n",
       "    }\n",
       "\n",
       "    .dataframe thead th {\n",
       "        text-align: right;\n",
       "    }\n",
       "</style>\n",
       "<table border=\"1\" class=\"dataframe\">\n",
       "  <thead>\n",
       "    <tr style=\"text-align: right;\">\n",
       "      <th></th>\n",
       "      <th>description</th>\n",
       "      <th>configuration</th>\n",
       "      <th>parameters</th>\n",
       "      <th>argos</th>\n",
       "      <th>behavior_tree</th>\n",
       "      <th>scores</th>\n",
       "      <th>avg_score</th>\n",
       "    </tr>\n",
       "  </thead>\n",
       "  <tbody>\n",
       "    <tr>\n",
       "      <th>0</th>\n",
       "      <td>The environment is a rectangular area with len...</td>\n",
       "      <td>&lt;?xml version=\"1.00\" ?&gt;\\n&lt;config&gt;\\n  &lt;swarm-el...</td>\n",
       "      <td>MissionParams(arena_params=RectangularArena(le...</td>\n",
       "      <td>&lt;?xml version=\"1.00\" ?&gt;\\n&lt;argos-configuration&gt;...</td>\n",
       "      <td>--nroot 3 --nchildroot 3 --n0 0 --nchild0 2 --...</td>\n",
       "      <td>[0.6, 0.8, 0.4, 0.8, 0.6, 0.4, 0.8, 0.6, 0.8, ...</td>\n",
       "      <td>0.640000</td>\n",
       "    </tr>\n",
       "    <tr>\n",
       "      <th>1</th>\n",
       "      <td>A circle with 14 walls forms the structure of ...</td>\n",
       "      <td>&lt;?xml version=\"1.00\" ?&gt;\\n&lt;config&gt;\\n  &lt;swarm-el...</td>\n",
       "      <td>MissionParams(arena_params=CircularArena(radiu...</td>\n",
       "      <td>&lt;?xml version=\"1.00\" ?&gt;\\n&lt;argos-configuration&gt;...</td>\n",
       "      <td>--nroot 3 --nchildroot 4 --n0 0 --nchild0 2 --...</td>\n",
       "      <td>[1.0, 1.0, 1.0, 1.0, 1.0, 1.0, 0.8, 1.0, 1.0, ...</td>\n",
       "      <td>0.980000</td>\n",
       "    </tr>\n",
       "    <tr>\n",
       "      <th>2</th>\n",
       "      <td>The area is a rectangle with dimensions 3.01 x...</td>\n",
       "      <td>&lt;?xml version=\"1.00\" ?&gt;\\n&lt;config&gt;\\n  &lt;swarm-el...</td>\n",
       "      <td>MissionParams(arena_params=RectangularArena(le...</td>\n",
       "      <td>&lt;?xml version=\"1.00\" ?&gt;\\n&lt;argos-configuration&gt;...</td>\n",
       "      <td>--nroot 3 --nchildroot 4 --n0 0 --nchild0 2 --...</td>\n",
       "      <td>[-15.4044, -12.5675, -18.7304, -14.262, -9.990...</td>\n",
       "      <td>-14.494733</td>\n",
       "    </tr>\n",
       "    <tr>\n",
       "      <th>3</th>\n",
       "      <td>In this setting, a circular arena with a radiu...</td>\n",
       "      <td>&lt;?xml version=\"1.00\" ?&gt;\\n&lt;config&gt;\\n  &lt;swarm-el...</td>\n",
       "      <td>MissionParams(arena_params=CircularArena(radiu...</td>\n",
       "      <td>&lt;?xml version=\"1.00\" ?&gt;\\n&lt;argos-configuration&gt;...</td>\n",
       "      <td>--nroot 3 --nchildroot 3 --n0 0 --nchild0 2 --...</td>\n",
       "      <td>[2.0, 0.0, 4.0, 5.0, 2.0, 2.0, 2.0, 3.0, 4.0, ...</td>\n",
       "      <td>2.900000</td>\n",
       "    </tr>\n",
       "    <tr>\n",
       "      <th>4</th>\n",
       "      <td>The circular arena, constructed with 3 walls, ...</td>\n",
       "      <td>&lt;?xml version=\"1.00\" ?&gt;\\n&lt;config&gt;\\n  &lt;swarm-el...</td>\n",
       "      <td>MissionParams(arena_params=CircularArena(radiu...</td>\n",
       "      <td>&lt;?xml version=\"1.00\" ?&gt;\\n&lt;argos-configuration&gt;...</td>\n",
       "      <td>--nroot 3 --nchildroot 2 --n0 0 --nchild0 2 --...</td>\n",
       "      <td>[-2.17621, -1.86975, -2.05369, -2.09637, -2.11...</td>\n",
       "      <td>-2.048390</td>\n",
       "    </tr>\n",
       "    <tr>\n",
       "      <th>...</th>\n",
       "      <td>...</td>\n",
       "      <td>...</td>\n",
       "      <td>...</td>\n",
       "      <td>...</td>\n",
       "      <td>...</td>\n",
       "      <td>...</td>\n",
       "      <td>...</td>\n",
       "    </tr>\n",
       "    <tr>\n",
       "      <th>2695</th>\n",
       "      <td>The rectangular space is 7.11 m long, 6.27 m w...</td>\n",
       "      <td>&lt;?xml version=\"1.00\" ?&gt;\\n&lt;config&gt;\\n  &lt;swarm-el...</td>\n",
       "      <td>MissionParams(arena_params=RectangularArena(le...</td>\n",
       "      <td>&lt;?xml version=\"1.00\" ?&gt;\\n&lt;argos-configuration&gt;...</td>\n",
       "      <td>--nroot 3 --nchildroot 2 --n0 0 --nchild0 2 --...</td>\n",
       "      <td>[0.304348, 0.304348, 0.434783, 0.434783, 0.608...</td>\n",
       "      <td>0.391305</td>\n",
       "    </tr>\n",
       "    <tr>\n",
       "      <th>2696</th>\n",
       "      <td>The area is a rectangle with dimensions 7.27 x...</td>\n",
       "      <td>&lt;?xml version=\"1.00\" ?&gt;\\n&lt;config&gt;\\n  &lt;swarm-el...</td>\n",
       "      <td>MissionParams(arena_params=RectangularArena(le...</td>\n",
       "      <td>&lt;?xml version=\"1.00\" ?&gt;\\n&lt;argos-configuration&gt;...</td>\n",
       "      <td>--nroot 3 --nchildroot 2 --n0 0 --nchild0 2 --...</td>\n",
       "      <td>[0.4, 0.36, 0.36, 0.4, 0.36, 0.28, 0.24, 0.36,...</td>\n",
       "      <td>0.332000</td>\n",
       "    </tr>\n",
       "    <tr>\n",
       "      <th>2697</th>\n",
       "      <td>The environment is constructed as a rectangula...</td>\n",
       "      <td>&lt;?xml version=\"1.00\" ?&gt;\\n&lt;config&gt;\\n  &lt;swarm-el...</td>\n",
       "      <td>MissionParams(arena_params=RectangularArena(le...</td>\n",
       "      <td>&lt;?xml version=\"1.00\" ?&gt;\\n&lt;argos-configuration&gt;...</td>\n",
       "      <td>--nroot 3 --nchildroot 3 --n0 0 --nchild0 2 --...</td>\n",
       "      <td>[0.904762, 0.666667, 0.714286, 0.666667, 0.761...</td>\n",
       "      <td>0.719048</td>\n",
       "    </tr>\n",
       "    <tr>\n",
       "      <th>2698</th>\n",
       "      <td>A circle with 24 walls forms the structure of ...</td>\n",
       "      <td>&lt;?xml version=\"1.00\" ?&gt;\\n&lt;config&gt;\\n  &lt;swarm-el...</td>\n",
       "      <td>MissionParams(arena_params=CircularArena(radiu...</td>\n",
       "      <td>&lt;?xml version=\"1.00\" ?&gt;\\n&lt;argos-configuration&gt;...</td>\n",
       "      <td>--nroot 3 --nchildroot 4 --n0 0 --nchild0 2 --...</td>\n",
       "      <td>[-2.05816, -3.13608, -2.5613, -1.05903, -2.234...</td>\n",
       "      <td>-2.468775</td>\n",
       "    </tr>\n",
       "    <tr>\n",
       "      <th>2699</th>\n",
       "      <td>The environment is a circular arena with radiu...</td>\n",
       "      <td>&lt;?xml version=\"1.00\" ?&gt;\\n&lt;config&gt;\\n  &lt;swarm-el...</td>\n",
       "      <td>MissionParams(arena_params=CircularArena(radiu...</td>\n",
       "      <td>&lt;?xml version=\"1.00\" ?&gt;\\n&lt;argos-configuration&gt;...</td>\n",
       "      <td>--nroot 3 --nchildroot 1 --n0 0 --nchild0 2 --...</td>\n",
       "      <td>[-3.864, -3.47616, -6.59107, -6.05292, -8.8985...</td>\n",
       "      <td>-5.370630</td>\n",
       "    </tr>\n",
       "  </tbody>\n",
       "</table>\n",
       "<p>2700 rows × 7 columns</p>\n",
       "</div>"
      ],
      "text/plain": [
       "                                            description  \\\n",
       "0     The environment is a rectangular area with len...   \n",
       "1     A circle with 14 walls forms the structure of ...   \n",
       "2     The area is a rectangle with dimensions 3.01 x...   \n",
       "3     In this setting, a circular arena with a radiu...   \n",
       "4     The circular arena, constructed with 3 walls, ...   \n",
       "...                                                 ...   \n",
       "2695  The rectangular space is 7.11 m long, 6.27 m w...   \n",
       "2696  The area is a rectangle with dimensions 7.27 x...   \n",
       "2697  The environment is constructed as a rectangula...   \n",
       "2698  A circle with 24 walls forms the structure of ...   \n",
       "2699  The environment is a circular arena with radiu...   \n",
       "\n",
       "                                          configuration  \\\n",
       "0     <?xml version=\"1.00\" ?>\\n<config>\\n  <swarm-el...   \n",
       "1     <?xml version=\"1.00\" ?>\\n<config>\\n  <swarm-el...   \n",
       "2     <?xml version=\"1.00\" ?>\\n<config>\\n  <swarm-el...   \n",
       "3     <?xml version=\"1.00\" ?>\\n<config>\\n  <swarm-el...   \n",
       "4     <?xml version=\"1.00\" ?>\\n<config>\\n  <swarm-el...   \n",
       "...                                                 ...   \n",
       "2695  <?xml version=\"1.00\" ?>\\n<config>\\n  <swarm-el...   \n",
       "2696  <?xml version=\"1.00\" ?>\\n<config>\\n  <swarm-el...   \n",
       "2697  <?xml version=\"1.00\" ?>\\n<config>\\n  <swarm-el...   \n",
       "2698  <?xml version=\"1.00\" ?>\\n<config>\\n  <swarm-el...   \n",
       "2699  <?xml version=\"1.00\" ?>\\n<config>\\n  <swarm-el...   \n",
       "\n",
       "                                             parameters  \\\n",
       "0     MissionParams(arena_params=RectangularArena(le...   \n",
       "1     MissionParams(arena_params=CircularArena(radiu...   \n",
       "2     MissionParams(arena_params=RectangularArena(le...   \n",
       "3     MissionParams(arena_params=CircularArena(radiu...   \n",
       "4     MissionParams(arena_params=CircularArena(radiu...   \n",
       "...                                                 ...   \n",
       "2695  MissionParams(arena_params=RectangularArena(le...   \n",
       "2696  MissionParams(arena_params=RectangularArena(le...   \n",
       "2697  MissionParams(arena_params=RectangularArena(le...   \n",
       "2698  MissionParams(arena_params=CircularArena(radiu...   \n",
       "2699  MissionParams(arena_params=CircularArena(radiu...   \n",
       "\n",
       "                                                  argos  \\\n",
       "0     <?xml version=\"1.00\" ?>\\n<argos-configuration>...   \n",
       "1     <?xml version=\"1.00\" ?>\\n<argos-configuration>...   \n",
       "2     <?xml version=\"1.00\" ?>\\n<argos-configuration>...   \n",
       "3     <?xml version=\"1.00\" ?>\\n<argos-configuration>...   \n",
       "4     <?xml version=\"1.00\" ?>\\n<argos-configuration>...   \n",
       "...                                                 ...   \n",
       "2695  <?xml version=\"1.00\" ?>\\n<argos-configuration>...   \n",
       "2696  <?xml version=\"1.00\" ?>\\n<argos-configuration>...   \n",
       "2697  <?xml version=\"1.00\" ?>\\n<argos-configuration>...   \n",
       "2698  <?xml version=\"1.00\" ?>\\n<argos-configuration>...   \n",
       "2699  <?xml version=\"1.00\" ?>\\n<argos-configuration>...   \n",
       "\n",
       "                                          behavior_tree  \\\n",
       "0     --nroot 3 --nchildroot 3 --n0 0 --nchild0 2 --...   \n",
       "1     --nroot 3 --nchildroot 4 --n0 0 --nchild0 2 --...   \n",
       "2     --nroot 3 --nchildroot 4 --n0 0 --nchild0 2 --...   \n",
       "3     --nroot 3 --nchildroot 3 --n0 0 --nchild0 2 --...   \n",
       "4     --nroot 3 --nchildroot 2 --n0 0 --nchild0 2 --...   \n",
       "...                                                 ...   \n",
       "2695  --nroot 3 --nchildroot 2 --n0 0 --nchild0 2 --...   \n",
       "2696  --nroot 3 --nchildroot 2 --n0 0 --nchild0 2 --...   \n",
       "2697  --nroot 3 --nchildroot 3 --n0 0 --nchild0 2 --...   \n",
       "2698  --nroot 3 --nchildroot 4 --n0 0 --nchild0 2 --...   \n",
       "2699  --nroot 3 --nchildroot 1 --n0 0 --nchild0 2 --...   \n",
       "\n",
       "                                                 scores  avg_score  \n",
       "0     [0.6, 0.8, 0.4, 0.8, 0.6, 0.4, 0.8, 0.6, 0.8, ...   0.640000  \n",
       "1     [1.0, 1.0, 1.0, 1.0, 1.0, 1.0, 0.8, 1.0, 1.0, ...   0.980000  \n",
       "2     [-15.4044, -12.5675, -18.7304, -14.262, -9.990... -14.494733  \n",
       "3     [2.0, 0.0, 4.0, 5.0, 2.0, 2.0, 2.0, 3.0, 4.0, ...   2.900000  \n",
       "4     [-2.17621, -1.86975, -2.05369, -2.09637, -2.11...  -2.048390  \n",
       "...                                                 ...        ...  \n",
       "2695  [0.304348, 0.304348, 0.434783, 0.434783, 0.608...   0.391305  \n",
       "2696  [0.4, 0.36, 0.36, 0.4, 0.36, 0.28, 0.24, 0.36,...   0.332000  \n",
       "2697  [0.904762, 0.666667, 0.714286, 0.666667, 0.761...   0.719048  \n",
       "2698  [-2.05816, -3.13608, -2.5613, -1.05903, -2.234...  -2.468775  \n",
       "2699  [-3.864, -3.47616, -6.59107, -6.05292, -8.8985...  -5.370630  \n",
       "\n",
       "[2700 rows x 7 columns]"
      ]
     },
     "execution_count": 4,
     "metadata": {},
     "output_type": "execute_result"
    }
   ],
   "source": [
    "from pathlib import Path\n",
    "datasets = [\n",
    "    #\"automode_evaluated_seed14_n600.pickle\", # the first two datasets seem to have a different score distribution (probably different fitness function) and do not make sense to compare with others\n",
    "    #\"automode_evaluated_seed15_n600.pickle\",\n",
    "    \"automode_evaluated_seed16_n300_24-12-17_targetlights.pickle\",\n",
    "    \"automode_evaluated_seed17_n600_24-12-20.pickle\",\n",
    "    \"automode_evaluated_seed18_n600_24-12-23.pickle\",\n",
    "    \"automode_evaluated_seed19_n600_24-12-24.pickle\",\n",
    "    \"automode_evaluated_seed20_n600_25-01-16.pickle\"\n",
    "]\n",
    "\n",
    "dataset_dir = Path(\"../ressources\")\n",
    "\n",
    "datasets = [dataset_dir / d for d in datasets]\n",
    "datasets = [pd.read_pickle(d) for d in datasets]\n",
    "combined_df = pd.concat(datasets, axis=0, ignore_index=True)\n",
    "combined_df"
   ]
  },
  {
   "cell_type": "code",
   "execution_count": 5,
   "metadata": {},
   "outputs": [
    {
     "data": {
      "text/plain": [
       "(array(['Aggregation', 'Connection', 'Foraging', 'Distribution'],\n",
       "       dtype=object),\n",
       " array(['TargetLights', 'UniformLights'], dtype=object),\n",
       " array(['RectangularArena', 'CircularArena'], dtype=object),\n",
       " array(['CenteredSwarm'], dtype=object))"
      ]
     },
     "execution_count": 5,
     "metadata": {},
     "output_type": "execute_result"
    }
   ],
   "source": [
    "combined_df[\"type\"] = combined_df[\"parameters\"].map(lambda x: type(x.objective_params).__name__)\n",
    "combined_df[\"lightstype\"] = combined_df[\"parameters\"].map(lambda x: type(x.lights_params).__name__)\n",
    "combined_df[\"arenatype\"] = combined_df[\"parameters\"].map(lambda x: type(x.arena_params).__name__)\n",
    "combined_df[\"robotstype\"] = combined_df[\"parameters\"].map(lambda x: type(x.robots_params).__name__)\n",
    "combined_df.type.unique(), combined_df.lightstype.unique(), combined_df.arenatype.unique(), combined_df.robotstype.unique()"
   ]
  },
  {
   "cell_type": "code",
   "execution_count": 6,
   "metadata": {},
   "outputs": [
    {
     "data": {
      "text/plain": [
       "lightstype\n",
       "TargetLights     1366\n",
       "UniformLights    1334\n",
       "dtype: int64"
      ]
     },
     "execution_count": 6,
     "metadata": {},
     "output_type": "execute_result"
    }
   ],
   "source": [
    "num_rows_by_lightstype = combined_df.groupby(\"lightstype\").size()\n",
    "num_rows_by_lightstype"
   ]
  },
  {
   "cell_type": "code",
   "execution_count": 7,
   "metadata": {},
   "outputs": [
    {
     "data": {
      "text/plain": [
       "lightstype\n",
       "TargetLights     1276\n",
       "UniformLights    1305\n",
       "Name: scores, dtype: int64"
      ]
     },
     "execution_count": 7,
     "metadata": {},
     "output_type": "execute_result"
    }
   ],
   "source": [
    "num_scores_by_lightstype = combined_df.groupby(\"lightstype\")[\"scores\"].count()\n",
    "num_scores_by_lightstype"
   ]
  },
  {
   "cell_type": "code",
   "execution_count": 8,
   "metadata": {},
   "outputs": [
    {
     "data": {
      "text/plain": [
       "lightstype\n",
       "TargetLights     0.934114\n",
       "UniformLights    0.978261\n",
       "dtype: float64"
      ]
     },
     "execution_count": 8,
     "metadata": {},
     "output_type": "execute_result"
    }
   ],
   "source": [
    "num_scores_by_lightstype / num_rows_by_lightstype"
   ]
  },
  {
   "cell_type": "code",
   "execution_count": 9,
   "metadata": {},
   "outputs": [
    {
     "data": {
      "image/png": "[encoded data removed]",
      "text/plain": [
       "<Figure size 1000x600 with 1 Axes>"
      ]
     },
     "metadata": {},
     "output_type": "display_data"
    }
   ],
   "source": [
    "import pandas as pd\n",
    "import seaborn as sns\n",
    "import matplotlib.pyplot as plt\n",
    "\n",
    "df = pd.DataFrame(combined_df)\n",
    "\n",
    "\n",
    "# Create a new column to group by every 100 rows\n",
    "df['group'] = df.index // 100\n",
    "\n",
    "# Count NaNs in the 'scores' column for each group\n",
    "nan_counts = df.groupby('group')['scores'].apply(lambda x: x.isna().sum()).reset_index()\n",
    "\n",
    "# Rename the columns for clarity\n",
    "nan_counts.rename(columns={'scores': 'nan_count'}, inplace=True)\n",
    "\n",
    "# Plot the NaN count as a line plot\n",
    "plt.figure(figsize=(10, 6))\n",
    "sns.lineplot(data=nan_counts, x='group', y='nan_count', marker='o')\n",
    "\n",
    "# Set titles and labels\n",
    "plt.title('Count of NaN Values in Scores by Group', fontsize=16)\n",
    "plt.xlabel('Group (Every 100 Rows)', fontsize=12)\n",
    "plt.ylabel('Count of NaN Values', fontsize=12)\n",
    "plt.xticks(nan_counts['group'])  # Set x-ticks to show all groups\n",
    "plt.grid()\n",
    "\n",
    "# Show the plot\n",
    "plt.show()\n"
   ]
  },
  {
   "cell_type": "markdown",
   "metadata": {},
   "source": [
    "## split into subdataframes I want to do experiments on"
   ]
  },
  {
   "cell_type": "markdown",
   "metadata": {},
   "source": [
    "shuffle dataframe to avoid systimatic errors eventually done at specific times. also remove nan scores"
   ]
  },
  {
   "cell_type": "code",
   "execution_count": 10,
   "metadata": {},
   "outputs": [
    {
     "data": {
      "text/html": [
       "<div>\n",
       "<style scoped>\n",
       "    .dataframe tbody tr th:only-of-type {\n",
       "        vertical-align: middle;\n",
       "    }\n",
       "\n",
       "    .dataframe tbody tr th {\n",
       "        vertical-align: top;\n",
       "    }\n",
       "\n",
       "    .dataframe thead th {\n",
       "        text-align: right;\n",
       "    }\n",
       "</style>\n",
       "<table border=\"1\" class=\"dataframe\">\n",
       "  <thead>\n",
       "    <tr style=\"text-align: right;\">\n",
       "      <th></th>\n",
       "      <th>description</th>\n",
       "      <th>configuration</th>\n",
       "      <th>parameters</th>\n",
       "      <th>argos</th>\n",
       "      <th>behavior_tree</th>\n",
       "      <th>scores</th>\n",
       "      <th>avg_score</th>\n",
       "      <th>type</th>\n",
       "      <th>lightstype</th>\n",
       "      <th>arenatype</th>\n",
       "      <th>robotstype</th>\n",
       "    </tr>\n",
       "  </thead>\n",
       "  <tbody>\n",
       "    <tr>\n",
       "      <th>0</th>\n",
       "      <td>The environment is a circular arena with radiu...</td>\n",
       "      <td>&lt;?xml version=\"1.00\" ?&gt;\\n&lt;config&gt;\\n  &lt;swarm-el...</td>\n",
       "      <td>MissionParams(arena_params=CircularArena(radiu...</td>\n",
       "      <td>&lt;?xml version=\"1.00\" ?&gt;\\n&lt;argos-configuration&gt;...</td>\n",
       "      <td>--nroot 3 --nchildroot 4 --n0 0 --nchild0 2 --...</td>\n",
       "      <td>[4.0, 2.0, 4.0, 5.0, 3.0, 4.0, 1.0, 3.0, 5.0, ...</td>\n",
       "      <td>3.600000</td>\n",
       "      <td>Foraging</td>\n",
       "      <td>TargetLights</td>\n",
       "      <td>CircularArena</td>\n",
       "      <td>CenteredSwarm</td>\n",
       "    </tr>\n",
       "    <tr>\n",
       "      <th>1</th>\n",
       "      <td>The environment consists of a circular arena w...</td>\n",
       "      <td>&lt;?xml version=\"1.00\" ?&gt;\\n&lt;config&gt;\\n  &lt;swarm-el...</td>\n",
       "      <td>MissionParams(arena_params=CircularArena(radiu...</td>\n",
       "      <td>&lt;?xml version=\"1.00\" ?&gt;\\n&lt;argos-configuration&gt;...</td>\n",
       "      <td>--nroot 3 --nchildroot 1 --n0 0 --nchild0 2 --...</td>\n",
       "      <td>[3.0, 3.0, 4.0, 2.0, 1.0, 2.0, 5.0, 3.0, 4.0, ...</td>\n",
       "      <td>2.900000</td>\n",
       "      <td>Foraging</td>\n",
       "      <td>UniformLights</td>\n",
       "      <td>CircularArena</td>\n",
       "      <td>CenteredSwarm</td>\n",
       "    </tr>\n",
       "    <tr>\n",
       "      <th>2</th>\n",
       "      <td>With a radius of 3.44 meters, the circular are...</td>\n",
       "      <td>&lt;?xml version=\"1.00\" ?&gt;\\n&lt;config&gt;\\n  &lt;swarm-el...</td>\n",
       "      <td>MissionParams(arena_params=CircularArena(radiu...</td>\n",
       "      <td>&lt;?xml version=\"1.00\" ?&gt;\\n&lt;argos-configuration&gt;...</td>\n",
       "      <td>--nroot 3 --nchildroot 3 --n0 0 --nchild0 2 --...</td>\n",
       "      <td>[-8.57746, -4.79552, -7.16427, -9.41532, -6.30...</td>\n",
       "      <td>-7.018138</td>\n",
       "      <td>Connection</td>\n",
       "      <td>UniformLights</td>\n",
       "      <td>CircularArena</td>\n",
       "      <td>CenteredSwarm</td>\n",
       "    </tr>\n",
       "    <tr>\n",
       "      <th>3</th>\n",
       "      <td>The arena has a radius of 1.99 m. In this sett...</td>\n",
       "      <td>&lt;?xml version=\"1.00\" ?&gt;\\n&lt;config&gt;\\n  &lt;swarm-el...</td>\n",
       "      <td>MissionParams(arena_params=CircularArena(radiu...</td>\n",
       "      <td>&lt;?xml version=\"1.00\" ?&gt;\\n&lt;argos-configuration&gt;...</td>\n",
       "      <td>--nroot 3 --nchildroot 2 --n0 0 --nchild0 2 --...</td>\n",
       "      <td>[0.8, 0.866667, 0.733333, 0.8, 0.866667, 0.6, ...</td>\n",
       "      <td>0.740000</td>\n",
       "      <td>Aggregation</td>\n",
       "      <td>UniformLights</td>\n",
       "      <td>CircularArena</td>\n",
       "      <td>CenteredSwarm</td>\n",
       "    </tr>\n",
       "    <tr>\n",
       "      <th>4</th>\n",
       "      <td>The area is a rectangle with dimensions 5.11 x...</td>\n",
       "      <td>&lt;?xml version=\"1.00\" ?&gt;\\n&lt;config&gt;\\n  &lt;swarm-el...</td>\n",
       "      <td>MissionParams(arena_params=RectangularArena(le...</td>\n",
       "      <td>&lt;?xml version=\"1.00\" ?&gt;\\n&lt;argos-configuration&gt;...</td>\n",
       "      <td>--nroot 3 --nchildroot 3 --n0 0 --nchild0 2 --...</td>\n",
       "      <td>[3.0, 5.0, 6.0, 5.0, 5.0, 4.0, 4.0, 5.0, 4.0, ...</td>\n",
       "      <td>4.700000</td>\n",
       "      <td>Foraging</td>\n",
       "      <td>TargetLights</td>\n",
       "      <td>RectangularArena</td>\n",
       "      <td>CenteredSwarm</td>\n",
       "    </tr>\n",
       "  </tbody>\n",
       "</table>\n",
       "</div>"
      ],
      "text/plain": [
       "                                         description  \\\n",
       "0  The environment is a circular arena with radiu...   \n",
       "1  The environment consists of a circular arena w...   \n",
       "2  With a radius of 3.44 meters, the circular are...   \n",
       "3  The arena has a radius of 1.99 m. In this sett...   \n",
       "4  The area is a rectangle with dimensions 5.11 x...   \n",
       "\n",
       "                                       configuration  \\\n",
       "0  <?xml version=\"1.00\" ?>\\n<config>\\n  <swarm-el...   \n",
       "1  <?xml version=\"1.00\" ?>\\n<config>\\n  <swarm-el...   \n",
       "2  <?xml version=\"1.00\" ?>\\n<config>\\n  <swarm-el...   \n",
       "3  <?xml version=\"1.00\" ?>\\n<config>\\n  <swarm-el...   \n",
       "4  <?xml version=\"1.00\" ?>\\n<config>\\n  <swarm-el...   \n",
       "\n",
       "                                          parameters  \\\n",
       "0  MissionParams(arena_params=CircularArena(radiu...   \n",
       "1  MissionParams(arena_params=CircularArena(radiu...   \n",
       "2  MissionParams(arena_params=CircularArena(radiu...   \n",
       "3  MissionParams(arena_params=CircularArena(radiu...   \n",
       "4  MissionParams(arena_params=RectangularArena(le...   \n",
       "\n",
       "                                               argos  \\\n",
       "0  <?xml version=\"1.00\" ?>\\n<argos-configuration>...   \n",
       "1  <?xml version=\"1.00\" ?>\\n<argos-configuration>...   \n",
       "2  <?xml version=\"1.00\" ?>\\n<argos-configuration>...   \n",
       "3  <?xml version=\"1.00\" ?>\\n<argos-configuration>...   \n",
       "4  <?xml version=\"1.00\" ?>\\n<argos-configuration>...   \n",
       "\n",
       "                                       behavior_tree  \\\n",
       "0  --nroot 3 --nchildroot 4 --n0 0 --nchild0 2 --...   \n",
       "1  --nroot 3 --nchildroot 1 --n0 0 --nchild0 2 --...   \n",
       "2  --nroot 3 --nchildroot 3 --n0 0 --nchild0 2 --...   \n",
       "3  --nroot 3 --nchildroot 2 --n0 0 --nchild0 2 --...   \n",
       "4  --nroot 3 --nchildroot 3 --n0 0 --nchild0 2 --...   \n",
       "\n",
       "                                              scores  avg_score         type  \\\n",
       "0  [4.0, 2.0, 4.0, 5.0, 3.0, 4.0, 1.0, 3.0, 5.0, ...   3.600000     Foraging   \n",
       "1  [3.0, 3.0, 4.0, 2.0, 1.0, 2.0, 5.0, 3.0, 4.0, ...   2.900000     Foraging   \n",
       "2  [-8.57746, -4.79552, -7.16427, -9.41532, -6.30...  -7.018138   Connection   \n",
       "3  [0.8, 0.866667, 0.733333, 0.8, 0.866667, 0.6, ...   0.740000  Aggregation   \n",
       "4  [3.0, 5.0, 6.0, 5.0, 5.0, 4.0, 4.0, 5.0, 4.0, ...   4.700000     Foraging   \n",
       "\n",
       "      lightstype         arenatype     robotstype  \n",
       "0   TargetLights     CircularArena  CenteredSwarm  \n",
       "1  UniformLights     CircularArena  CenteredSwarm  \n",
       "2  UniformLights     CircularArena  CenteredSwarm  \n",
       "3  UniformLights     CircularArena  CenteredSwarm  \n",
       "4   TargetLights  RectangularArena  CenteredSwarm  "
      ]
     },
     "execution_count": 10,
     "metadata": {},
     "output_type": "execute_result"
    }
   ],
   "source": [
    "shuffled_df = combined_df.dropna().sample(frac=1, random_state=42).reset_index(drop=True)\n",
    "shuffled_df.head()"
   ]
  },
  {
   "cell_type": "code",
   "execution_count": 11,
   "metadata": {},
   "outputs": [
    {
     "data": {
      "text/plain": [
       "(np.float64(-77.84778),\n",
       " np.float64(68.5),\n",
       " np.float64(-69.81863000000001),\n",
       " np.float64(1.0))"
      ]
     },
     "execution_count": 11,
     "metadata": {},
     "output_type": "execute_result"
    }
   ],
   "source": [
    "shuffled_df[shuffled_df.type==\"Distribution\"].avg_score.min(), shuffled_df[shuffled_df.type==\"Foraging\"].avg_score.max(), shuffled_df[shuffled_df.type==\"Connection\"].avg_score.min(), shuffled_df[shuffled_df.type==\"Aggregation\"].avg_score.max()"
   ]
  },
  {
   "cell_type": "markdown",
   "metadata": {},
   "source": [
    "### big experiment with increasing size"
   ]
  },
  {
   "cell_type": "code",
   "execution_count": 12,
   "metadata": {},
   "outputs": [
    {
     "data": {
      "text/plain": [
       "[0.1,\n",
       " 0.2,\n",
       " 0.30000000000000004,\n",
       " 0.4,\n",
       " 0.5,\n",
       " 0.6,\n",
       " 0.7000000000000001,\n",
       " 0.8,\n",
       " 0.9,\n",
       " 1.0]"
      ]
     },
     "execution_count": 12,
     "metadata": {},
     "output_type": "execute_result"
    }
   ],
   "source": [
    "\n",
    "step = 0.1\n",
    "ranges = list(np.arange(0,1,step))\n",
    "ranges = [step + v.item() for v in ranges]\n",
    "ranges"
   ]
  },
  {
   "cell_type": "code",
   "execution_count": 13,
   "metadata": {},
   "outputs": [
    {
     "data": {
      "text/plain": [
       "2564"
      ]
     },
     "execution_count": 13,
     "metadata": {},
     "output_type": "execute_result"
    }
   ],
   "source": [
    "len(shuffled_df)"
   ]
  },
  {
   "cell_type": "code",
   "execution_count": 14,
   "metadata": {},
   "outputs": [],
   "source": [
    "n_validate = 250\n",
    "\n",
    "df_validate = shuffled_df.iloc[:n_validate]  # First 250 entries\n",
    "df_train = shuffled_df.iloc[n_validate:].iloc[:2250]  # Remaining entries"
   ]
  },
  {
   "cell_type": "code",
   "execution_count": 15,
   "metadata": {},
   "outputs": [
    {
     "data": {
      "text/plain": [
       "[225, 450, 675, 900, 1125, 1350, 1575, 1800, 2025, 2250]"
      ]
     },
     "execution_count": 15,
     "metadata": {},
     "output_type": "execute_result"
    }
   ],
   "source": [
    "increasing_size_dfs = [df_train.head(int(len(df_train) * range)) for range in ranges]\n",
    "[len(d) for d in increasing_size_dfs]\n"
   ]
  },
  {
   "cell_type": "code",
   "execution_count": 16,
   "metadata": {},
   "outputs": [],
   "source": [
    "df_validate.to_pickle(f\"../ressources/final_experiments/automode_datasets/df_increasing_size_validate.pickle\")\n",
    "\n",
    "for df, size in zip(increasing_size_dfs,[len(d) for d in increasing_size_dfs]):\n",
    "    df.to_pickle(f\"../ressources/final_experiments/automode_datasets/df_increasing_size_{size}.pickle\")"
   ]
  },
  {
   "cell_type": "markdown",
   "metadata": {},
   "source": [
    "### aggregation color split"
   ]
  },
  {
   "cell_type": "code",
   "execution_count": 17,
   "metadata": {},
   "outputs": [
    {
     "data": {
      "text/html": [
       "<div>\n",
       "<style scoped>\n",
       "    .dataframe tbody tr th:only-of-type {\n",
       "        vertical-align: middle;\n",
       "    }\n",
       "\n",
       "    .dataframe tbody tr th {\n",
       "        vertical-align: top;\n",
       "    }\n",
       "\n",
       "    .dataframe thead th {\n",
       "        text-align: right;\n",
       "    }\n",
       "</style>\n",
       "<table border=\"1\" class=\"dataframe\">\n",
       "  <thead>\n",
       "    <tr style=\"text-align: right;\">\n",
       "      <th></th>\n",
       "      <th>index</th>\n",
       "      <th>description</th>\n",
       "      <th>configuration</th>\n",
       "      <th>parameters</th>\n",
       "      <th>argos</th>\n",
       "      <th>behavior_tree</th>\n",
       "      <th>scores</th>\n",
       "      <th>avg_score</th>\n",
       "      <th>type</th>\n",
       "      <th>lightstype</th>\n",
       "      <th>arenatype</th>\n",
       "      <th>robotstype</th>\n",
       "      <th>target_color</th>\n",
       "    </tr>\n",
       "  </thead>\n",
       "  <tbody>\n",
       "    <tr>\n",
       "      <th>0</th>\n",
       "      <td>3</td>\n",
       "      <td>The arena has a radius of 1.99 m. In this sett...</td>\n",
       "      <td>&lt;?xml version=\"1.00\" ?&gt;\\n&lt;config&gt;\\n  &lt;swarm-el...</td>\n",
       "      <td>MissionParams(arena_params=CircularArena(radiu...</td>\n",
       "      <td>&lt;?xml version=\"1.00\" ?&gt;\\n&lt;argos-configuration&gt;...</td>\n",
       "      <td>--nroot 3 --nchildroot 2 --n0 0 --nchild0 2 --...</td>\n",
       "      <td>[0.8, 0.866667, 0.733333, 0.8, 0.866667, 0.6, ...</td>\n",
       "      <td>0.7400</td>\n",
       "      <td>Aggregation</td>\n",
       "      <td>UniformLights</td>\n",
       "      <td>CircularArena</td>\n",
       "      <td>CenteredSwarm</td>\n",
       "      <td>black</td>\n",
       "    </tr>\n",
       "    <tr>\n",
       "      <th>1</th>\n",
       "      <td>5</td>\n",
       "      <td>The area is a rectangle with dimensions 6.56 x...</td>\n",
       "      <td>&lt;?xml version=\"1.00\" ?&gt;\\n&lt;config&gt;\\n  &lt;swarm-el...</td>\n",
       "      <td>MissionParams(arena_params=RectangularArena(le...</td>\n",
       "      <td>&lt;?xml version=\"1.00\" ?&gt;\\n&lt;argos-configuration&gt;...</td>\n",
       "      <td>--nroot 3 --nchildroot 4 --n0 0 --nchild0 2 --...</td>\n",
       "      <td>[0.333333, 0.0833333, 0.166667, 0.0833333, 0.0...</td>\n",
       "      <td>0.1500</td>\n",
       "      <td>Aggregation</td>\n",
       "      <td>UniformLights</td>\n",
       "      <td>RectangularArena</td>\n",
       "      <td>CenteredSwarm</td>\n",
       "      <td>white</td>\n",
       "    </tr>\n",
       "    <tr>\n",
       "      <th>2</th>\n",
       "      <td>6</td>\n",
       "      <td>The environment consists of a rectangular area...</td>\n",
       "      <td>&lt;?xml version=\"1.00\" ?&gt;\\n&lt;config&gt;\\n  &lt;swarm-el...</td>\n",
       "      <td>MissionParams(arena_params=RectangularArena(le...</td>\n",
       "      <td>&lt;?xml version=\"1.00\" ?&gt;\\n&lt;argos-configuration&gt;...</td>\n",
       "      <td>--nroot 3 --nchildroot 3 --n0 0 --nchild0 2 --...</td>\n",
       "      <td>[0.4, 0.6, 0.6, 0.6, 1.0, 1.0, 0.6, 0.6, 0.6, ...</td>\n",
       "      <td>0.6600</td>\n",
       "      <td>Aggregation</td>\n",
       "      <td>UniformLights</td>\n",
       "      <td>RectangularArena</td>\n",
       "      <td>CenteredSwarm</td>\n",
       "      <td>black</td>\n",
       "    </tr>\n",
       "    <tr>\n",
       "      <th>3</th>\n",
       "      <td>9</td>\n",
       "      <td>The environment consists of a circular arena w...</td>\n",
       "      <td>&lt;?xml version=\"1.00\" ?&gt;\\n&lt;config&gt;\\n  &lt;swarm-el...</td>\n",
       "      <td>MissionParams(arena_params=CircularArena(radiu...</td>\n",
       "      <td>&lt;?xml version=\"1.00\" ?&gt;\\n&lt;argos-configuration&gt;...</td>\n",
       "      <td>--nroot 3 --nchildroot 2 --n0 0 --nchild0 2 --...</td>\n",
       "      <td>[0.0625, 0.125, 0.0625, 0.125, 0.1875, 0.125, ...</td>\n",
       "      <td>0.1125</td>\n",
       "      <td>Aggregation</td>\n",
       "      <td>UniformLights</td>\n",
       "      <td>CircularArena</td>\n",
       "      <td>CenteredSwarm</td>\n",
       "      <td>black</td>\n",
       "    </tr>\n",
       "    <tr>\n",
       "      <th>4</th>\n",
       "      <td>13</td>\n",
       "      <td>The rectangular space is 1.94 m long, 2.32 m w...</td>\n",
       "      <td>&lt;?xml version=\"1.00\" ?&gt;\\n&lt;config&gt;\\n  &lt;swarm-el...</td>\n",
       "      <td>MissionParams(arena_params=RectangularArena(le...</td>\n",
       "      <td>&lt;?xml version=\"1.00\" ?&gt;\\n&lt;argos-configuration&gt;...</td>\n",
       "      <td>--nroot 3 --nchildroot 3 --n0 0 --nchild0 2 --...</td>\n",
       "      <td>[0.0, 0.0, 0.0, 0.0, 0.0, 0.0, 0.0, 0.0, 0.0, ...</td>\n",
       "      <td>0.0000</td>\n",
       "      <td>Aggregation</td>\n",
       "      <td>UniformLights</td>\n",
       "      <td>RectangularArena</td>\n",
       "      <td>CenteredSwarm</td>\n",
       "      <td>black</td>\n",
       "    </tr>\n",
       "  </tbody>\n",
       "</table>\n",
       "</div>"
      ],
      "text/plain": [
       "   index                                        description  \\\n",
       "0      3  The arena has a radius of 1.99 m. In this sett...   \n",
       "1      5  The area is a rectangle with dimensions 6.56 x...   \n",
       "2      6  The environment consists of a rectangular area...   \n",
       "3      9  The environment consists of a circular arena w...   \n",
       "4     13  The rectangular space is 1.94 m long, 2.32 m w...   \n",
       "\n",
       "                                       configuration  \\\n",
       "0  <?xml version=\"1.00\" ?>\\n<config>\\n  <swarm-el...   \n",
       "1  <?xml version=\"1.00\" ?>\\n<config>\\n  <swarm-el...   \n",
       "2  <?xml version=\"1.00\" ?>\\n<config>\\n  <swarm-el...   \n",
       "3  <?xml version=\"1.00\" ?>\\n<config>\\n  <swarm-el...   \n",
       "4  <?xml version=\"1.00\" ?>\\n<config>\\n  <swarm-el...   \n",
       "\n",
       "                                          parameters  \\\n",
       "0  MissionParams(arena_params=CircularArena(radiu...   \n",
       "1  MissionParams(arena_params=RectangularArena(le...   \n",
       "2  MissionParams(arena_params=RectangularArena(le...   \n",
       "3  MissionParams(arena_params=CircularArena(radiu...   \n",
       "4  MissionParams(arena_params=RectangularArena(le...   \n",
       "\n",
       "                                               argos  \\\n",
       "0  <?xml version=\"1.00\" ?>\\n<argos-configuration>...   \n",
       "1  <?xml version=\"1.00\" ?>\\n<argos-configuration>...   \n",
       "2  <?xml version=\"1.00\" ?>\\n<argos-configuration>...   \n",
       "3  <?xml version=\"1.00\" ?>\\n<argos-configuration>...   \n",
       "4  <?xml version=\"1.00\" ?>\\n<argos-configuration>...   \n",
       "\n",
       "                                       behavior_tree  \\\n",
       "0  --nroot 3 --nchildroot 2 --n0 0 --nchild0 2 --...   \n",
       "1  --nroot 3 --nchildroot 4 --n0 0 --nchild0 2 --...   \n",
       "2  --nroot 3 --nchildroot 3 --n0 0 --nchild0 2 --...   \n",
       "3  --nroot 3 --nchildroot 2 --n0 0 --nchild0 2 --...   \n",
       "4  --nroot 3 --nchildroot 3 --n0 0 --nchild0 2 --...   \n",
       "\n",
       "                                              scores  avg_score         type  \\\n",
       "0  [0.8, 0.866667, 0.733333, 0.8, 0.866667, 0.6, ...     0.7400  Aggregation   \n",
       "1  [0.333333, 0.0833333, 0.166667, 0.0833333, 0.0...     0.1500  Aggregation   \n",
       "2  [0.4, 0.6, 0.6, 0.6, 1.0, 1.0, 0.6, 0.6, 0.6, ...     0.6600  Aggregation   \n",
       "3  [0.0625, 0.125, 0.0625, 0.125, 0.1875, 0.125, ...     0.1125  Aggregation   \n",
       "4  [0.0, 0.0, 0.0, 0.0, 0.0, 0.0, 0.0, 0.0, 0.0, ...     0.0000  Aggregation   \n",
       "\n",
       "      lightstype         arenatype     robotstype target_color  \n",
       "0  UniformLights     CircularArena  CenteredSwarm        black  \n",
       "1  UniformLights  RectangularArena  CenteredSwarm        white  \n",
       "2  UniformLights  RectangularArena  CenteredSwarm        black  \n",
       "3  UniformLights     CircularArena  CenteredSwarm        black  \n",
       "4  UniformLights  RectangularArena  CenteredSwarm        black  "
      ]
     },
     "execution_count": 17,
     "metadata": {},
     "output_type": "execute_result"
    }
   ],
   "source": [
    "def shorten_color_string(c):\n",
    "    if c == \"GroundColor.BLACK\":\n",
    "        return \"black\"\n",
    "    else:\n",
    "        return \"white\"\n",
    "    \n",
    "def map_agg_color(obj):\n",
    "    if obj.objective_params.agg_target == 1:\n",
    "        return str(obj.objective_params.ground_area_1.color)\n",
    "    else:\n",
    "        return str(obj.objective_params.ground_area_2.color)\n",
    "    \n",
    "agg_df = shuffled_df[shuffled_df.type == \"Aggregation\"].copy().reset_index()\n",
    "agg_colors = agg_df.apply(lambda row: shorten_color_string(map_agg_color(row[\"parameters\"])), axis=1)\n",
    "agg_df = pd.concat([agg_df,agg_colors], axis=1).rename(columns={0: \"target_color\"})\n",
    "agg_df.head()"
   ]
  },
  {
   "cell_type": "code",
   "execution_count": 18,
   "metadata": {},
   "outputs": [
    {
     "data": {
      "text/plain": [
       "(349, 320)"
      ]
     },
     "execution_count": 18,
     "metadata": {},
     "output_type": "execute_result"
    }
   ],
   "source": [
    "white_aggs = agg_df[agg_df.target_color == \"white\"].reset_index()\n",
    "black_aggs = agg_df[agg_df.target_color == \"black\"].reset_index()\n",
    "len(white_aggs), len(black_aggs)"
   ]
  },
  {
   "cell_type": "code",
   "execution_count": 19,
   "metadata": {},
   "outputs": [],
   "source": [
    "white_aggs[:450].to_pickle(\"../ressources/final_experiments/automode_datasets/df_aggregation_only_white.pickle\")\n",
    "black_aggs[:450].to_pickle(\"../ressources/final_experiments/automode_datasets/df_aggregation_only_black.pickle\")"
   ]
  },
  {
   "cell_type": "markdown",
   "metadata": {},
   "source": [
    "### guided env split"
   ]
  },
  {
   "cell_type": "code",
   "execution_count": 20,
   "metadata": {},
   "outputs": [
    {
     "data": {
      "text/plain": [
       "(1261, 1303)"
      ]
     },
     "execution_count": 20,
     "metadata": {},
     "output_type": "execute_result"
    }
   ],
   "source": [
    "guided_env_exp_guided = shuffled_df[shuffled_df.lightstype == \"TargetLights\"].reset_index()\n",
    "guided_env_exp_nonguided = shuffled_df[shuffled_df.lightstype != \"TargetLights\"].reset_index()\n",
    "\n",
    "len(guided_env_exp_guided), len(guided_env_exp_nonguided)"
   ]
  },
  {
   "cell_type": "code",
   "execution_count": 21,
   "metadata": {},
   "outputs": [],
   "source": [
    "white_aggs[:1250].to_pickle(\"../ressources/final_experiments/automode_datasets/df_guided_uniform.pickle\")\n",
    "black_aggs[:1250].to_pickle(\"../ressources/final_experiments/automode_datasets/df_guided_targeted.pickle\")"
   ]
  },
  {
   "cell_type": "markdown",
   "metadata": {},
   "source": [
    "### leave one out (no aggregation)"
   ]
  },
  {
   "cell_type": "code",
   "execution_count": 22,
   "metadata": {},
   "outputs": [
    {
     "data": {
      "text/plain": [
       "(669, 1895)"
      ]
     },
     "execution_count": 22,
     "metadata": {},
     "output_type": "execute_result"
    }
   ],
   "source": [
    "df_loo_agg = shuffled_df[shuffled_df.type == \"Aggregation\"].reset_index()\n",
    "df_loo_no_agg = shuffled_df[shuffled_df.type != \"Aggregation\"].reset_index()\n",
    "len(df_loo_agg), len(df_loo_no_agg)"
   ]
  },
  {
   "cell_type": "code",
   "execution_count": 23,
   "metadata": {},
   "outputs": [],
   "source": [
    "df_loo_agg.to_pickle(\"../ressources/final_experiments/automode_datasets/df_leaveoneout_agg.pickle\")\n",
    "df_loo_agg.to_pickle(\"../ressources/final_experiments/automode_datasets/df_leaveoneout_noagg.pickle\")"
   ]
  },
  {
   "cell_type": "markdown",
   "metadata": {},
   "source": [
    "### formal descriptions"
   ]
  },
  {
   "cell_type": "code",
   "execution_count": 24,
   "metadata": {},
   "outputs": [
    {
     "name": "stdout",
     "output_type": "stream",
     "text": [
      "<?xml version=\"1.00\" ?>\n",
      "<config>\n",
      "  <swarm-elems>\n",
      "    <entity quantity=\"14\" max_trials=\"100\">\n",
      "      <e-puck id=\"epuck\">\n",
      "        <controller config=\"automode_bt\"/>\n",
      "      </e-puck>\n",
      "    </entity>\n",
      "  </swarm-elems>\n",
      "  <env-elems>\n",
      "    <light id=\"light_0\" position=\"0.25,-0.90,0.00\" orientation=\"360,0,0\" color=\"yellow\" intensity=\"11.80\" medium=\"leds\"/>\n",
      "    <light id=\"light_1\" position=\"-1.05,-1.21,0.00\" orientation=\"360,0,0\" color=\"yellow\" intensity=\"10.78\" medium=\"leds\"/>\n",
      "    <box id=\"wall_0\" size=\"0.01,0.87,0.10\" movable=\"false\">\n",
      "      <body position=\"2.98,0.43,0\" orientation=\"8.18,0,0\"/>\n",
      "    </box>\n",
      "    <box id=\"wall_1\" size=\"0.01,0.87,0.10\" movable=\"false\">\n",
      "      <body position=\"2.74,1.25,0\" orientation=\"24.55,0,0\"/>\n",
      "    </box>\n",
      "    <box id=\"wall_2\" size=\"0.01,0.87,0.10\" movable=\"false\">\n",
      "      <body position=\"2.27,1.97,0\" orientation=\"40.91,0,0\"/>\n",
      "    </box>\n",
      "    <box id=\"wall_3\" size=\"0.01,0.87,0.10\" movable=\"false\">\n",
      "      <body position=\"1.63,2.53,0\" orientation=\"57.27,0,0\"/>\n",
      "    </box>\n",
      "    <box id=\"wall_4\" size=\"0.01,0.87,0.10\" movable=\"false\">\n",
      "      <body position=\"0.85,2.89,0\" orientation=\"73.64,0,0\"/>\n",
      "    </box>\n",
      "    <box id=\"wall_5\" size=\"0.01,0.87,0.10\" movable=\"false\">\n",
      "      <body position=\"1.6653345369377348e-16,3.01,0\" orientation=\"90.00,0,0\"/>\n",
      "    </box>\n",
      "    <box id=\"wall_6\" size=\"0.01,0.87,0.10\" movable=\"false\">\n",
      "      <body position=\"-0.85,2.89,0\" orientation=\"106.36,0,0\"/>\n",
      "    </box>\n",
      "    <box id=\"wall_7\" size=\"0.01,0.87,0.10\" movable=\"false\">\n",
      "      <body position=\"-1.63,2.53,0\" orientation=\"122.73,0,0\"/>\n",
      "    </box>\n",
      "    <box id=\"wall_8\" size=\"0.01,0.87,0.10\" movable=\"false\">\n",
      "      <body position=\"-2.27,1.97,0\" orientation=\"139.09,0,0\"/>\n",
      "    </box>\n",
      "    <box id=\"wall_9\" size=\"0.01,0.87,0.10\" movable=\"false\">\n",
      "      <body position=\"-2.74,1.25,0\" orientation=\"155.45,0,0\"/>\n",
      "    </box>\n",
      "    <box id=\"wall_10\" size=\"0.01,0.87,0.10\" movable=\"false\">\n",
      "      <body position=\"-2.98,0.43,0\" orientation=\"171.82,0,0\"/>\n",
      "    </box>\n",
      "    <box id=\"wall_11\" size=\"0.01,0.87,0.10\" movable=\"false\">\n",
      "      <body position=\"-2.98,-0.43,0\" orientation=\"-171.82,0,0\"/>\n",
      "    </box>\n",
      "    <box id=\"wall_12\" size=\"0.01,0.87,0.10\" movable=\"false\">\n",
      "      <body position=\"-2.74,-1.25,0\" orientation=\"-155.45,0,0\"/>\n",
      "    </box>\n",
      "    <box id=\"wall_13\" size=\"0.01,0.87,0.10\" movable=\"false\">\n",
      "      <body position=\"-2.27,-1.97,0\" orientation=\"-139.09,0,0\"/>\n",
      "    </box>\n",
      "    <box id=\"wall_14\" size=\"0.01,0.87,0.10\" movable=\"false\">\n",
      "      <body position=\"-1.63,-2.53,0\" orientation=\"-122.73,0,0\"/>\n",
      "    </box>\n",
      "    <box id=\"wall_15\" size=\"0.01,0.87,0.10\" movable=\"false\">\n",
      "      <body position=\"-0.85,-2.89,0\" orientation=\"-106.36,0,0\"/>\n",
      "    </box>\n",
      "    <box id=\"wall_16\" size=\"0.01,0.87,0.10\" movable=\"false\">\n",
      "      <body position=\"-5.551115123125783e-16,-3.01,0\" orientation=\"-90.00,0,0\"/>\n",
      "    </box>\n",
      "    <box id=\"wall_17\" size=\"0.01,0.87,0.10\" movable=\"false\">\n",
      "      <body position=\"0.85,-2.89,0\" orientation=\"-73.64,0,0\"/>\n",
      "    </box>\n",
      "    <box id=\"wall_18\" size=\"0.01,0.87,0.10\" movable=\"false\">\n",
      "      <body position=\"1.63,-2.53,0\" orientation=\"-57.27,0,0\"/>\n",
      "    </box>\n",
      "    <box id=\"wall_19\" size=\"0.01,0.87,0.10\" movable=\"false\">\n",
      "      <body position=\"2.27,-1.97,0\" orientation=\"-40.91,0,0\"/>\n",
      "    </box>\n",
      "    <box id=\"wall_20\" size=\"0.01,0.87,0.10\" movable=\"false\">\n",
      "      <body position=\"2.74,-1.25,0\" orientation=\"-24.55,0,0\"/>\n",
      "    </box>\n",
      "    <box id=\"wall_21\" size=\"0.01,0.87,0.10\" movable=\"false\">\n",
      "      <body position=\"2.98,-0.43,0\" orientation=\"-8.18,0,0\"/>\n",
      "    </box>\n",
      "    <arena-attrib size=\"8.08,8.08,2.21\"/>\n",
      "  </env-elems>\n",
      "  <objective-elems>\n",
      "    <spawnCircle position=\"0,0,0\" radius=\"1.40\"/>\n",
      "    <circle position=\"0.25,-0.90\" radius=\"0.41\" color=\"white\"/>\n",
      "    <circle position=\"-1.05,-1.21\" radius=\"0.27\" color=\"black\"/>\n",
      "    <objective type=\"foraging\">\n",
      "      <objective-params source=\"black\" sink=\"white\"/>\n",
      "    </objective>\n",
      "  </objective-elems>\n",
      "</config>\n"
     ]
    }
   ],
   "source": [
    "df_formal = shuffled_df.copy()\n",
    "df_formal[\"description\"] = df_formal[\"configuration\"]\n",
    "print(df_formal.iloc[0].description)"
   ]
  },
  {
   "cell_type": "code",
   "execution_count": 25,
   "metadata": {},
   "outputs": [],
   "source": [
    "df_formal.to_pickle(\"../ressources/final_experiments/automode_datasets/df_formal_descriptions.pickle\")"
   ]
  },
  {
   "cell_type": "markdown",
   "metadata": {},
   "source": [
    "todo these splits should always be same size"
   ]
  }
 ],
 "metadata": {
  "kernelspec": {
   "display_name": "automode_llm",
   "language": "python",
   "name": "python3"
  },
  "language_info": {
   "codemirror_mode": {
    "name": "ipython",
    "version": 3
   },
   "file_extension": ".py",
   "mimetype": "text/x-python",
   "name": "python",
   "nbconvert_exporter": "python",
   "pygments_lexer": "ipython3",
   "version": "3.10.0"
  }
 },
 "nbformat": 4,
 "nbformat_minor": 2
}
