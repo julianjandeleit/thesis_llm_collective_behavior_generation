{
 "cells": [
  {
   "cell_type": "code",
   "execution_count": 1,
   "metadata": {},
   "outputs": [],
   "source": [
    "%load_ext autoreload\n",
    "%autoreload 2"
   ]
  },
  {
   "cell_type": "code",
   "execution_count": 2,
   "metadata": {},
   "outputs": [],
   "source": [
    "%mkdir -p ../ressources/final_experiments/automode_datasets"
   ]
  },
  {
   "cell_type": "code",
   "execution_count": 3,
   "metadata": {},
   "outputs": [],
   "source": [
    "import pandas as pd\n",
    "import numpy as np\n",
    "import pickle\n",
    "import random\n",
    "random.seed(42)\n",
    "np.random.seed(42)"
   ]
  },
  {
   "cell_type": "code",
   "execution_count": 4,
   "metadata": {},
   "outputs": [
    {
     "data": {
      "text/html": [
       "<div>\n",
       "<style scoped>\n",
       "    .dataframe tbody tr th:only-of-type {\n",
       "        vertical-align: middle;\n",
       "    }\n",
       "\n",
       "    .dataframe tbody tr th {\n",
       "        vertical-align: top;\n",
       "    }\n",
       "\n",
       "    .dataframe thead th {\n",
       "        text-align: right;\n",
       "    }\n",
       "</style>\n",
       "<table border=\"1\" class=\"dataframe\">\n",
       "  <thead>\n",
       "    <tr style=\"text-align: right;\">\n",
       "      <th></th>\n",
       "      <th>description</th>\n",
       "      <th>configuration</th>\n",
       "      <th>parameters</th>\n",
       "      <th>argos</th>\n",
       "      <th>behavior_tree</th>\n",
       "      <th>scores</th>\n",
       "      <th>avg_score</th>\n",
       "    </tr>\n",
       "  </thead>\n",
       "  <tbody>\n",
       "    <tr>\n",
       "      <th>0</th>\n",
       "      <td>In this setting, a circular arena with a radiu...</td>\n",
       "      <td>&lt;?xml version=\"1.00\" ?&gt;\\n&lt;config&gt;\\n  &lt;swarm-el...</td>\n",
       "      <td>MissionParams(arena_params=CircularArena(radiu...</td>\n",
       "      <td>&lt;?xml version=\"1.00\" ?&gt;\\n&lt;argos-configuration&gt;...</td>\n",
       "      <td>--nroot 3 --nchildroot 4 --n0 0 --nchild0 2 --...</td>\n",
       "      <td>[0.269231, 0.192308, 0.230769, 0.269231, 0.307...</td>\n",
       "      <td>0.230769</td>\n",
       "    </tr>\n",
       "    <tr>\n",
       "      <th>1</th>\n",
       "      <td>The area is a rectangle with dimensions 4.76 x...</td>\n",
       "      <td>&lt;?xml version=\"1.00\" ?&gt;\\n&lt;config&gt;\\n  &lt;swarm-el...</td>\n",
       "      <td>MissionParams(arena_params=RectangularArena(le...</td>\n",
       "      <td>&lt;?xml version=\"1.00\" ?&gt;\\n&lt;argos-configuration&gt;...</td>\n",
       "      <td>--nroot 3 --nchildroot 3 --n0 0 --nchild0 2 --...</td>\n",
       "      <td>[1.0, 1.0, 1.0, 0.0, 1.0, 1.0, 2.0, 0.0, 0.0, ...</td>\n",
       "      <td>0.700000</td>\n",
       "    </tr>\n",
       "    <tr>\n",
       "      <th>2</th>\n",
       "      <td>The environment features a circle composed of ...</td>\n",
       "      <td>&lt;?xml version=\"1.00\" ?&gt;\\n&lt;config&gt;\\n  &lt;swarm-el...</td>\n",
       "      <td>MissionParams(arena_params=CircularArena(radiu...</td>\n",
       "      <td>&lt;?xml version=\"1.00\" ?&gt;\\n&lt;argos-configuration&gt;...</td>\n",
       "      <td>--nroot 3 --nchildroot 4 --n0 0 --nchild0 2 --...</td>\n",
       "      <td>[2.0, 0.0, 1.0, 0.0, 1.0, 4.0, 0.0, 0.0, 1.0, ...</td>\n",
       "      <td>1.100000</td>\n",
       "    </tr>\n",
       "    <tr>\n",
       "      <th>3</th>\n",
       "      <td>The environment is constructed as a rectangula...</td>\n",
       "      <td>&lt;?xml version=\"1.00\" ?&gt;\\n&lt;config&gt;\\n  &lt;swarm-el...</td>\n",
       "      <td>MissionParams(arena_params=RectangularArena(le...</td>\n",
       "      <td>&lt;?xml version=\"1.00\" ?&gt;\\n&lt;argos-configuration&gt;...</td>\n",
       "      <td>--nroot 3 --nchildroot 4 --n0 0 --nchild0 2 --...</td>\n",
       "      <td>[0.375, 0.375, 0.3125, 0.4375, 0.375, 0.3125, ...</td>\n",
       "      <td>0.356250</td>\n",
       "    </tr>\n",
       "    <tr>\n",
       "      <th>4</th>\n",
       "      <td>The rectangular area has dimensions 3.38 m x 3...</td>\n",
       "      <td>&lt;?xml version=\"1.00\" ?&gt;\\n&lt;config&gt;\\n  &lt;swarm-el...</td>\n",
       "      <td>MissionParams(arena_params=RectangularArena(le...</td>\n",
       "      <td>&lt;?xml version=\"1.00\" ?&gt;\\n&lt;argos-configuration&gt;...</td>\n",
       "      <td>--nroot 3 --nchildroot 3 --n0 0 --nchild0 2 --...</td>\n",
       "      <td>[-8.91568, -5.62197, -8.21353, -6.31614, -7.41...</td>\n",
       "      <td>-7.377086</td>\n",
       "    </tr>\n",
       "    <tr>\n",
       "      <th>...</th>\n",
       "      <td>...</td>\n",
       "      <td>...</td>\n",
       "      <td>...</td>\n",
       "      <td>...</td>\n",
       "      <td>...</td>\n",
       "      <td>...</td>\n",
       "      <td>...</td>\n",
       "    </tr>\n",
       "    <tr>\n",
       "      <th>3895</th>\n",
       "      <td>The rectangular space is 7.11 m long, 6.27 m w...</td>\n",
       "      <td>&lt;?xml version=\"1.00\" ?&gt;\\n&lt;config&gt;\\n  &lt;swarm-el...</td>\n",
       "      <td>MissionParams(arena_params=RectangularArena(le...</td>\n",
       "      <td>&lt;?xml version=\"1.00\" ?&gt;\\n&lt;argos-configuration&gt;...</td>\n",
       "      <td>--nroot 3 --nchildroot 2 --n0 0 --nchild0 2 --...</td>\n",
       "      <td>[0.304348, 0.304348, 0.434783, 0.434783, 0.608...</td>\n",
       "      <td>0.391305</td>\n",
       "    </tr>\n",
       "    <tr>\n",
       "      <th>3896</th>\n",
       "      <td>The area is a rectangle with dimensions 7.27 x...</td>\n",
       "      <td>&lt;?xml version=\"1.00\" ?&gt;\\n&lt;config&gt;\\n  &lt;swarm-el...</td>\n",
       "      <td>MissionParams(arena_params=RectangularArena(le...</td>\n",
       "      <td>&lt;?xml version=\"1.00\" ?&gt;\\n&lt;argos-configuration&gt;...</td>\n",
       "      <td>--nroot 3 --nchildroot 2 --n0 0 --nchild0 2 --...</td>\n",
       "      <td>[0.4, 0.36, 0.36, 0.4, 0.36, 0.28, 0.24, 0.36,...</td>\n",
       "      <td>0.332000</td>\n",
       "    </tr>\n",
       "    <tr>\n",
       "      <th>3897</th>\n",
       "      <td>The environment is constructed as a rectangula...</td>\n",
       "      <td>&lt;?xml version=\"1.00\" ?&gt;\\n&lt;config&gt;\\n  &lt;swarm-el...</td>\n",
       "      <td>MissionParams(arena_params=RectangularArena(le...</td>\n",
       "      <td>&lt;?xml version=\"1.00\" ?&gt;\\n&lt;argos-configuration&gt;...</td>\n",
       "      <td>--nroot 3 --nchildroot 3 --n0 0 --nchild0 2 --...</td>\n",
       "      <td>[0.904762, 0.666667, 0.714286, 0.666667, 0.761...</td>\n",
       "      <td>0.719048</td>\n",
       "    </tr>\n",
       "    <tr>\n",
       "      <th>3898</th>\n",
       "      <td>A circle with 24 walls forms the structure of ...</td>\n",
       "      <td>&lt;?xml version=\"1.00\" ?&gt;\\n&lt;config&gt;\\n  &lt;swarm-el...</td>\n",
       "      <td>MissionParams(arena_params=CircularArena(radiu...</td>\n",
       "      <td>&lt;?xml version=\"1.00\" ?&gt;\\n&lt;argos-configuration&gt;...</td>\n",
       "      <td>--nroot 3 --nchildroot 4 --n0 0 --nchild0 2 --...</td>\n",
       "      <td>[-2.05816, -3.13608, -2.5613, -1.05903, -2.234...</td>\n",
       "      <td>-2.468775</td>\n",
       "    </tr>\n",
       "    <tr>\n",
       "      <th>3899</th>\n",
       "      <td>The environment is a circular arena with radiu...</td>\n",
       "      <td>&lt;?xml version=\"1.00\" ?&gt;\\n&lt;config&gt;\\n  &lt;swarm-el...</td>\n",
       "      <td>MissionParams(arena_params=CircularArena(radiu...</td>\n",
       "      <td>&lt;?xml version=\"1.00\" ?&gt;\\n&lt;argos-configuration&gt;...</td>\n",
       "      <td>--nroot 3 --nchildroot 1 --n0 0 --nchild0 2 --...</td>\n",
       "      <td>[-3.864, -3.47616, -6.59107, -6.05292, -8.8985...</td>\n",
       "      <td>-5.370630</td>\n",
       "    </tr>\n",
       "  </tbody>\n",
       "</table>\n",
       "<p>3900 rows × 7 columns</p>\n",
       "</div>"
      ],
      "text/plain": [
       "                                            description  \\\n",
       "0     In this setting, a circular arena with a radiu...   \n",
       "1     The area is a rectangle with dimensions 4.76 x...   \n",
       "2     The environment features a circle composed of ...   \n",
       "3     The environment is constructed as a rectangula...   \n",
       "4     The rectangular area has dimensions 3.38 m x 3...   \n",
       "...                                                 ...   \n",
       "3895  The rectangular space is 7.11 m long, 6.27 m w...   \n",
       "3896  The area is a rectangle with dimensions 7.27 x...   \n",
       "3897  The environment is constructed as a rectangula...   \n",
       "3898  A circle with 24 walls forms the structure of ...   \n",
       "3899  The environment is a circular arena with radiu...   \n",
       "\n",
       "                                          configuration  \\\n",
       "0     <?xml version=\"1.00\" ?>\\n<config>\\n  <swarm-el...   \n",
       "1     <?xml version=\"1.00\" ?>\\n<config>\\n  <swarm-el...   \n",
       "2     <?xml version=\"1.00\" ?>\\n<config>\\n  <swarm-el...   \n",
       "3     <?xml version=\"1.00\" ?>\\n<config>\\n  <swarm-el...   \n",
       "4     <?xml version=\"1.00\" ?>\\n<config>\\n  <swarm-el...   \n",
       "...                                                 ...   \n",
       "3895  <?xml version=\"1.00\" ?>\\n<config>\\n  <swarm-el...   \n",
       "3896  <?xml version=\"1.00\" ?>\\n<config>\\n  <swarm-el...   \n",
       "3897  <?xml version=\"1.00\" ?>\\n<config>\\n  <swarm-el...   \n",
       "3898  <?xml version=\"1.00\" ?>\\n<config>\\n  <swarm-el...   \n",
       "3899  <?xml version=\"1.00\" ?>\\n<config>\\n  <swarm-el...   \n",
       "\n",
       "                                             parameters  \\\n",
       "0     MissionParams(arena_params=CircularArena(radiu...   \n",
       "1     MissionParams(arena_params=RectangularArena(le...   \n",
       "2     MissionParams(arena_params=CircularArena(radiu...   \n",
       "3     MissionParams(arena_params=RectangularArena(le...   \n",
       "4     MissionParams(arena_params=RectangularArena(le...   \n",
       "...                                                 ...   \n",
       "3895  MissionParams(arena_params=RectangularArena(le...   \n",
       "3896  MissionParams(arena_params=RectangularArena(le...   \n",
       "3897  MissionParams(arena_params=RectangularArena(le...   \n",
       "3898  MissionParams(arena_params=CircularArena(radiu...   \n",
       "3899  MissionParams(arena_params=CircularArena(radiu...   \n",
       "\n",
       "                                                  argos  \\\n",
       "0     <?xml version=\"1.00\" ?>\\n<argos-configuration>...   \n",
       "1     <?xml version=\"1.00\" ?>\\n<argos-configuration>...   \n",
       "2     <?xml version=\"1.00\" ?>\\n<argos-configuration>...   \n",
       "3     <?xml version=\"1.00\" ?>\\n<argos-configuration>...   \n",
       "4     <?xml version=\"1.00\" ?>\\n<argos-configuration>...   \n",
       "...                                                 ...   \n",
       "3895  <?xml version=\"1.00\" ?>\\n<argos-configuration>...   \n",
       "3896  <?xml version=\"1.00\" ?>\\n<argos-configuration>...   \n",
       "3897  <?xml version=\"1.00\" ?>\\n<argos-configuration>...   \n",
       "3898  <?xml version=\"1.00\" ?>\\n<argos-configuration>...   \n",
       "3899  <?xml version=\"1.00\" ?>\\n<argos-configuration>...   \n",
       "\n",
       "                                          behavior_tree  \\\n",
       "0     --nroot 3 --nchildroot 4 --n0 0 --nchild0 2 --...   \n",
       "1     --nroot 3 --nchildroot 3 --n0 0 --nchild0 2 --...   \n",
       "2     --nroot 3 --nchildroot 4 --n0 0 --nchild0 2 --...   \n",
       "3     --nroot 3 --nchildroot 4 --n0 0 --nchild0 2 --...   \n",
       "4     --nroot 3 --nchildroot 3 --n0 0 --nchild0 2 --...   \n",
       "...                                                 ...   \n",
       "3895  --nroot 3 --nchildroot 2 --n0 0 --nchild0 2 --...   \n",
       "3896  --nroot 3 --nchildroot 2 --n0 0 --nchild0 2 --...   \n",
       "3897  --nroot 3 --nchildroot 3 --n0 0 --nchild0 2 --...   \n",
       "3898  --nroot 3 --nchildroot 4 --n0 0 --nchild0 2 --...   \n",
       "3899  --nroot 3 --nchildroot 1 --n0 0 --nchild0 2 --...   \n",
       "\n",
       "                                                 scores  avg_score  \n",
       "0     [0.269231, 0.192308, 0.230769, 0.269231, 0.307...   0.230769  \n",
       "1     [1.0, 1.0, 1.0, 0.0, 1.0, 1.0, 2.0, 0.0, 0.0, ...   0.700000  \n",
       "2     [2.0, 0.0, 1.0, 0.0, 1.0, 4.0, 0.0, 0.0, 1.0, ...   1.100000  \n",
       "3     [0.375, 0.375, 0.3125, 0.4375, 0.375, 0.3125, ...   0.356250  \n",
       "4     [-8.91568, -5.62197, -8.21353, -6.31614, -7.41...  -7.377086  \n",
       "...                                                 ...        ...  \n",
       "3895  [0.304348, 0.304348, 0.434783, 0.434783, 0.608...   0.391305  \n",
       "3896  [0.4, 0.36, 0.36, 0.4, 0.36, 0.28, 0.24, 0.36,...   0.332000  \n",
       "3897  [0.904762, 0.666667, 0.714286, 0.666667, 0.761...   0.719048  \n",
       "3898  [-2.05816, -3.13608, -2.5613, -1.05903, -2.234...  -2.468775  \n",
       "3899  [-3.864, -3.47616, -6.59107, -6.05292, -8.8985...  -5.370630  \n",
       "\n",
       "[3900 rows x 7 columns]"
      ]
     },
     "execution_count": 4,
     "metadata": {},
     "output_type": "execute_result"
    }
   ],
   "source": [
    "from pathlib import Path\n",
    "datasets = [\n",
    "    \"automode_evaluated_seed14_n600.pickle\",\n",
    "    \"automode_evaluated_seed15_n600.pickle\",\n",
    "    \"automode_evaluated_seed16_n300_24-12-17_targetlights.pickle\",\n",
    "    \"automode_evaluated_seed17_n600_24-12-20.pickle\",\n",
    "    \"automode_evaluated_seed18_n600_24-12-23.pickle\",\n",
    "    \"automode_evaluated_seed19_n600_24-12-24.pickle\",\n",
    "    \"automode_evaluated_seed20_n600_25-01-16.pickle\"\n",
    "]\n",
    "\n",
    "dataset_dir = Path(\"../ressources\")\n",
    "\n",
    "datasets = [dataset_dir / d for d in datasets]\n",
    "datasets = [pd.read_pickle(d) for d in datasets]\n",
    "combined_df = pd.concat(datasets, axis=0, ignore_index=True)\n",
    "combined_df"
   ]
  },
  {
   "cell_type": "code",
   "execution_count": null,
   "metadata": {},
   "outputs": [
    {
     "data": {
      "text/plain": [
       "(array(['Aggregation', 'Foraging', 'Connection', 'Distribution'],\n",
       "       dtype=object),\n",
       " array(['UniformLights', 'TargetLights'], dtype=object),\n",
       " array(['CircularArena', 'RectangularArena'], dtype=object),\n",
       " array(['CenteredSwarm'], dtype=object))"
      ]
     },
     "execution_count": 5,
     "metadata": {},
     "output_type": "execute_result"
    }
   ],
   "source": [
    "combined_df[\"type\"] = combined_df[\"parameters\"].map(lambda x: type(x.objective_params).__name__)\n",
    "combined_df[\"lightstype\"] = combined_df[\"parameters\"].map(lambda x: type(x.lights_params).__name__)\n",
    "combined_df[\"arenatype\"] = combined_df[\"parameters\"].map(lambda x: type(x.arena_params).__name__)\n",
    "combined_df[\"robotstype\"] = combined_df[\"parameters\"].map(lambda x: type(x.robots_params).__name__)\n",
    "combined_df.type.unique(), combined_df.lightstype.unique(), combined_df.arenatype.unique(), combined_df.robotstype.unique()"
   ]
  },
  {
   "cell_type": "code",
   "execution_count": null,
   "metadata": {},
   "outputs": [
    {
     "data": {
      "text/plain": [
       "lightstype\n",
       "TargetLights     1366\n",
       "UniformLights    2534\n",
       "dtype: int64"
      ]
     },
     "execution_count": 6,
     "metadata": {},
     "output_type": "execute_result"
    }
   ],
   "source": [
    "num_rows_by_lightstype = combined_df.groupby(\"lightstype\").size()\n",
    "num_rows_by_lightstype"
   ]
  },
  {
   "cell_type": "code",
   "execution_count": null,
   "metadata": {},
   "outputs": [
    {
     "data": {
      "text/plain": [
       "lightstype\n",
       "TargetLights     1276\n",
       "UniformLights    2403\n",
       "Name: scores, dtype: int64"
      ]
     },
     "execution_count": 7,
     "metadata": {},
     "output_type": "execute_result"
    }
   ],
   "source": [
    "num_scores_by_lightstype = combined_df.groupby(\"lightstype\")[\"scores\"].count()\n",
    "num_scores_by_lightstype"
   ]
  },
  {
   "cell_type": "code",
   "execution_count": null,
   "metadata": {},
   "outputs": [
    {
     "data": {
      "text/plain": [
       "lightstype\n",
       "TargetLights     0.934114\n",
       "UniformLights    0.948303\n",
       "dtype: float64"
      ]
     },
     "execution_count": 8,
     "metadata": {},
     "output_type": "execute_result"
    }
   ],
   "source": [
    "num_scores_by_lightstype / num_rows_by_lightstype"
   ]
  },
  {
   "cell_type": "code",
   "execution_count": 9,
   "metadata": {},
   "outputs": [
    {
     "data": {
      "image/png": "[encoded data removed]",
      "text/plain": [
       "<Figure size 1000x600 with 1 Axes>"
      ]
     },
     "metadata": {},
     "output_type": "display_data"
    }
   ],
   "source": [
    "import pandas as pd\n",
    "import seaborn as sns\n",
    "import matplotlib.pyplot as plt\n",
    "\n",
    "df = pd.DataFrame(combined_df)\n",
    "\n",
    "\n",
    "# Create a new column to group by every 100 rows\n",
    "df['group'] = df.index // 100\n",
    "\n",
    "# Count NaNs in the 'scores' column for each group\n",
    "nan_counts = df.groupby('group')['scores'].apply(lambda x: x.isna().sum()).reset_index()\n",
    "\n",
    "# Rename the columns for clarity\n",
    "nan_counts.rename(columns={'scores': 'nan_count'}, inplace=True)\n",
    "\n",
    "# Plot the NaN count as a line plot\n",
    "plt.figure(figsize=(10, 6))\n",
    "sns.lineplot(data=nan_counts, x='group', y='nan_count', marker='o')\n",
    "\n",
    "# Set titles and labels\n",
    "plt.title('Count of NaN Values in Scores by Group', fontsize=16)\n",
    "plt.xlabel('Group (Every 100 Rows)', fontsize=12)\n",
    "plt.ylabel('Count of NaN Values', fontsize=12)\n",
    "plt.xticks(nan_counts['group'])  # Set x-ticks to show all groups\n",
    "plt.grid()\n",
    "\n",
    "# Show the plot\n",
    "plt.show()\n"
   ]
  },
  {
   "cell_type": "markdown",
   "metadata": {},
   "source": [
    "## split into subdataframes I want to do experiments on"
   ]
  },
  {
   "cell_type": "markdown",
   "metadata": {},
   "source": [
    "shuffle dataframe to avoid systimatic errors eventually done at specific times. also remove nan scores"
   ]
  },
  {
   "cell_type": "code",
   "execution_count": 10,
   "metadata": {},
   "outputs": [
    {
     "data": {
      "text/html": [
       "<div>\n",
       "<style scoped>\n",
       "    .dataframe tbody tr th:only-of-type {\n",
       "        vertical-align: middle;\n",
       "    }\n",
       "\n",
       "    .dataframe tbody tr th {\n",
       "        vertical-align: top;\n",
       "    }\n",
       "\n",
       "    .dataframe thead th {\n",
       "        text-align: right;\n",
       "    }\n",
       "</style>\n",
       "<table border=\"1\" class=\"dataframe\">\n",
       "  <thead>\n",
       "    <tr style=\"text-align: right;\">\n",
       "      <th></th>\n",
       "      <th>description</th>\n",
       "      <th>configuration</th>\n",
       "      <th>parameters</th>\n",
       "      <th>argos</th>\n",
       "      <th>behavior_tree</th>\n",
       "      <th>scores</th>\n",
       "      <th>avg_score</th>\n",
       "      <th>type</th>\n",
       "      <th>lightstype</th>\n",
       "      <th>arenatype</th>\n",
       "      <th>robotstype</th>\n",
       "    </tr>\n",
       "  </thead>\n",
       "  <tbody>\n",
       "    <tr>\n",
       "      <th>0</th>\n",
       "      <td>In this setting, a circular arena with a radiu...</td>\n",
       "      <td>&lt;?xml version=\"1.00\" ?&gt;\\n&lt;config&gt;\\n  &lt;swarm-el...</td>\n",
       "      <td>MissionParams(arena_params=CircularArena(radiu...</td>\n",
       "      <td>&lt;?xml version=\"1.00\" ?&gt;\\n&lt;argos-configuration&gt;...</td>\n",
       "      <td>--nroot 3 --nchildroot 2 --n0 0 --nchild0 2 --...</td>\n",
       "      <td>[3.0, 0.0, 2.0, 2.0, 2.0, 5.0, 2.0, 2.0, 2.0, ...</td>\n",
       "      <td>2.000000</td>\n",
       "      <td>Foraging</td>\n",
       "      <td>UniformLights</td>\n",
       "      <td>CircularArena</td>\n",
       "      <td>CenteredSwarm</td>\n",
       "    </tr>\n",
       "    <tr>\n",
       "      <th>1</th>\n",
       "      <td>The arena has a radius of 2.56 m. At the black...</td>\n",
       "      <td>&lt;?xml version=\"1.00\" ?&gt;\\n&lt;config&gt;\\n  &lt;swarm-el...</td>\n",
       "      <td>MissionParams(arena_params=CircularArena(radiu...</td>\n",
       "      <td>&lt;?xml version=\"1.00\" ?&gt;\\n&lt;argos-configuration&gt;...</td>\n",
       "      <td>--nroot 3 --nchildroot 4 --n0 0 --nchild0 2 --...</td>\n",
       "      <td>[0.636364, 0.818182, 0.727273, 0.727273, 0.727...</td>\n",
       "      <td>0.722727</td>\n",
       "      <td>Aggregation</td>\n",
       "      <td>TargetLights</td>\n",
       "      <td>CircularArena</td>\n",
       "      <td>CenteredSwarm</td>\n",
       "    </tr>\n",
       "    <tr>\n",
       "      <th>2</th>\n",
       "      <td>A circle with 22 walls forms the structure of ...</td>\n",
       "      <td>&lt;?xml version=\"1.00\" ?&gt;\\n&lt;config&gt;\\n  &lt;swarm-el...</td>\n",
       "      <td>MissionParams(arena_params=CircularArena(radiu...</td>\n",
       "      <td>&lt;?xml version=\"1.00\" ?&gt;\\n&lt;argos-configuration&gt;...</td>\n",
       "      <td>--nroot 3 --nchildroot 2 --n0 0 --nchild0 2 --...</td>\n",
       "      <td>[-765.153, -836.942, -759.206, -574.368, -588....</td>\n",
       "      <td>-695.734300</td>\n",
       "      <td>Distribution</td>\n",
       "      <td>UniformLights</td>\n",
       "      <td>CircularArena</td>\n",
       "      <td>CenteredSwarm</td>\n",
       "    </tr>\n",
       "    <tr>\n",
       "      <th>3</th>\n",
       "      <td>The circular arena, constructed with 23 walls,...</td>\n",
       "      <td>&lt;?xml version=\"1.00\" ?&gt;\\n&lt;config&gt;\\n  &lt;swarm-el...</td>\n",
       "      <td>MissionParams(arena_params=CircularArena(radiu...</td>\n",
       "      <td>&lt;?xml version=\"1.00\" ?&gt;\\n&lt;argos-configuration&gt;...</td>\n",
       "      <td>--nroot 3 --nchildroot 4 --n0 0 --nchild0 2 --...</td>\n",
       "      <td>[-8.91405, -9.10293, -9.01547, -4.73986, -11.4...</td>\n",
       "      <td>-7.846834</td>\n",
       "      <td>Connection</td>\n",
       "      <td>UniformLights</td>\n",
       "      <td>CircularArena</td>\n",
       "      <td>CenteredSwarm</td>\n",
       "    </tr>\n",
       "    <tr>\n",
       "      <th>4</th>\n",
       "      <td>The rectangular area has dimensions 4.21 m x 4...</td>\n",
       "      <td>&lt;?xml version=\"1.00\" ?&gt;\\n&lt;config&gt;\\n  &lt;swarm-el...</td>\n",
       "      <td>MissionParams(arena_params=RectangularArena(le...</td>\n",
       "      <td>&lt;?xml version=\"1.00\" ?&gt;\\n&lt;argos-configuration&gt;...</td>\n",
       "      <td>--nroot 3 --nchildroot 4 --n0 0 --nchild0 2 --...</td>\n",
       "      <td>[-6.43396, -12.0499, -8.7878, -6.86525, -12.35...</td>\n",
       "      <td>-9.252782</td>\n",
       "      <td>Connection</td>\n",
       "      <td>UniformLights</td>\n",
       "      <td>RectangularArena</td>\n",
       "      <td>CenteredSwarm</td>\n",
       "    </tr>\n",
       "  </tbody>\n",
       "</table>\n",
       "</div>"
      ],
      "text/plain": [
       "                                         description  \\\n",
       "0  In this setting, a circular arena with a radiu...   \n",
       "1  The arena has a radius of 2.56 m. At the black...   \n",
       "2  A circle with 22 walls forms the structure of ...   \n",
       "3  The circular arena, constructed with 23 walls,...   \n",
       "4  The rectangular area has dimensions 4.21 m x 4...   \n",
       "\n",
       "                                       configuration  \\\n",
       "0  <?xml version=\"1.00\" ?>\\n<config>\\n  <swarm-el...   \n",
       "1  <?xml version=\"1.00\" ?>\\n<config>\\n  <swarm-el...   \n",
       "2  <?xml version=\"1.00\" ?>\\n<config>\\n  <swarm-el...   \n",
       "3  <?xml version=\"1.00\" ?>\\n<config>\\n  <swarm-el...   \n",
       "4  <?xml version=\"1.00\" ?>\\n<config>\\n  <swarm-el...   \n",
       "\n",
       "                                          parameters  \\\n",
       "0  MissionParams(arena_params=CircularArena(radiu...   \n",
       "1  MissionParams(arena_params=CircularArena(radiu...   \n",
       "2  MissionParams(arena_params=CircularArena(radiu...   \n",
       "3  MissionParams(arena_params=CircularArena(radiu...   \n",
       "4  MissionParams(arena_params=RectangularArena(le...   \n",
       "\n",
       "                                               argos  \\\n",
       "0  <?xml version=\"1.00\" ?>\\n<argos-configuration>...   \n",
       "1  <?xml version=\"1.00\" ?>\\n<argos-configuration>...   \n",
       "2  <?xml version=\"1.00\" ?>\\n<argos-configuration>...   \n",
       "3  <?xml version=\"1.00\" ?>\\n<argos-configuration>...   \n",
       "4  <?xml version=\"1.00\" ?>\\n<argos-configuration>...   \n",
       "\n",
       "                                       behavior_tree  \\\n",
       "0  --nroot 3 --nchildroot 2 --n0 0 --nchild0 2 --...   \n",
       "1  --nroot 3 --nchildroot 4 --n0 0 --nchild0 2 --...   \n",
       "2  --nroot 3 --nchildroot 2 --n0 0 --nchild0 2 --...   \n",
       "3  --nroot 3 --nchildroot 4 --n0 0 --nchild0 2 --...   \n",
       "4  --nroot 3 --nchildroot 4 --n0 0 --nchild0 2 --...   \n",
       "\n",
       "                                              scores   avg_score  \\\n",
       "0  [3.0, 0.0, 2.0, 2.0, 2.0, 5.0, 2.0, 2.0, 2.0, ...    2.000000   \n",
       "1  [0.636364, 0.818182, 0.727273, 0.727273, 0.727...    0.722727   \n",
       "2  [-765.153, -836.942, -759.206, -574.368, -588.... -695.734300   \n",
       "3  [-8.91405, -9.10293, -9.01547, -4.73986, -11.4...   -7.846834   \n",
       "4  [-6.43396, -12.0499, -8.7878, -6.86525, -12.35...   -9.252782   \n",
       "\n",
       "           type     lightstype         arenatype     robotstype  \n",
       "0      Foraging  UniformLights     CircularArena  CenteredSwarm  \n",
       "1   Aggregation   TargetLights     CircularArena  CenteredSwarm  \n",
       "2  Distribution  UniformLights     CircularArena  CenteredSwarm  \n",
       "3    Connection  UniformLights     CircularArena  CenteredSwarm  \n",
       "4    Connection  UniformLights  RectangularArena  CenteredSwarm  "
      ]
     },
     "execution_count": 10,
     "metadata": {},
     "output_type": "execute_result"
    }
   ],
   "source": [
    "shuffled_df = combined_df.dropna().sample(frac=1, random_state=42).reset_index(drop=True)\n",
    "shuffled_df.head()"
   ]
  },
  {
   "cell_type": "markdown",
   "metadata": {},
   "source": [
    "### big experiment with increasing size"
   ]
  },
  {
   "cell_type": "code",
   "execution_count": 11,
   "metadata": {},
   "outputs": [
    {
     "data": {
      "text/plain": [
       "[0.1,\n",
       " 0.2,\n",
       " 0.30000000000000004,\n",
       " 0.4,\n",
       " 0.5,\n",
       " 0.6,\n",
       " 0.7000000000000001,\n",
       " 0.8,\n",
       " 0.9,\n",
       " 1.0]"
      ]
     },
     "execution_count": 11,
     "metadata": {},
     "output_type": "execute_result"
    }
   ],
   "source": [
    "\n",
    "step = 0.1\n",
    "ranges = list(np.arange(0,1,step))\n",
    "ranges = [step + v.item() for v in ranges]\n",
    "ranges"
   ]
  },
  {
   "cell_type": "code",
   "execution_count": null,
   "metadata": {},
   "outputs": [
    {
     "data": {
      "text/plain": [
       "3662"
      ]
     },
     "execution_count": 12,
     "metadata": {},
     "output_type": "execute_result"
    }
   ],
   "source": [
    "len(shuffled_df)"
   ]
  },
  {
   "cell_type": "code",
   "execution_count": 13,
   "metadata": {},
   "outputs": [],
   "source": [
    "n_validate = 500\n",
    "\n",
    "df_validate = shuffled_df.iloc[:n_validate]  # First 250 entries\n",
    "df_train = shuffled_df.iloc[n_validate:].iloc[:3000]  # Remaining entries"
   ]
  },
  {
   "cell_type": "code",
   "execution_count": null,
   "metadata": {},
   "outputs": [
    {
     "data": {
      "text/plain": [
       "[300, 600, 900, 1200, 1500, 1800, 2100, 2400, 2700, 3000]"
      ]
     },
     "execution_count": 14,
     "metadata": {},
     "output_type": "execute_result"
    }
   ],
   "source": [
    "increasing_size_dfs = [df_train.head(int(len(df_train) * range)) for range in ranges]\n",
    "[len(d) for d in increasing_size_dfs]\n"
   ]
  },
  {
   "cell_type": "code",
   "execution_count": 15,
   "metadata": {},
   "outputs": [],
   "source": [
    "df_validate.to_pickle(f\"../ressources/final_experiments/automode_datasets/df_increasing_size_validate.pickle\")\n",
    "\n",
    "for df, size in zip(increasing_size_dfs,[len(d) for d in increasing_size_dfs]):\n",
    "    df.to_pickle(f\"../ressources/final_experiments/automode_datasets/df_increasing_size_{size}.pickle\")"
   ]
  },
  {
   "cell_type": "markdown",
   "metadata": {},
   "source": [
    "### aggregation color split"
   ]
  },
  {
   "cell_type": "code",
   "execution_count": null,
   "metadata": {},
   "outputs": [
    {
     "data": {
      "text/html": [
       "<div>\n",
       "<style scoped>\n",
       "    .dataframe tbody tr th:only-of-type {\n",
       "        vertical-align: middle;\n",
       "    }\n",
       "\n",
       "    .dataframe tbody tr th {\n",
       "        vertical-align: top;\n",
       "    }\n",
       "\n",
       "    .dataframe thead th {\n",
       "        text-align: right;\n",
       "    }\n",
       "</style>\n",
       "<table border=\"1\" class=\"dataframe\">\n",
       "  <thead>\n",
       "    <tr style=\"text-align: right;\">\n",
       "      <th></th>\n",
       "      <th>index</th>\n",
       "      <th>description</th>\n",
       "      <th>configuration</th>\n",
       "      <th>parameters</th>\n",
       "      <th>argos</th>\n",
       "      <th>behavior_tree</th>\n",
       "      <th>scores</th>\n",
       "      <th>avg_score</th>\n",
       "      <th>type</th>\n",
       "      <th>lightstype</th>\n",
       "      <th>arenatype</th>\n",
       "      <th>robotstype</th>\n",
       "      <th>target_color</th>\n",
       "    </tr>\n",
       "  </thead>\n",
       "  <tbody>\n",
       "    <tr>\n",
       "      <th>0</th>\n",
       "      <td>1</td>\n",
       "      <td>The arena has a radius of 2.56 m. At the black...</td>\n",
       "      <td>&lt;?xml version=\"1.00\" ?&gt;\\n&lt;config&gt;\\n  &lt;swarm-el...</td>\n",
       "      <td>MissionParams(arena_params=CircularArena(radiu...</td>\n",
       "      <td>&lt;?xml version=\"1.00\" ?&gt;\\n&lt;argos-configuration&gt;...</td>\n",
       "      <td>--nroot 3 --nchildroot 4 --n0 0 --nchild0 2 --...</td>\n",
       "      <td>[0.636364, 0.818182, 0.727273, 0.727273, 0.727...</td>\n",
       "      <td>0.722727</td>\n",
       "      <td>Aggregation</td>\n",
       "      <td>TargetLights</td>\n",
       "      <td>CircularArena</td>\n",
       "      <td>CenteredSwarm</td>\n",
       "      <td>black</td>\n",
       "    </tr>\n",
       "    <tr>\n",
       "      <th>1</th>\n",
       "      <td>9</td>\n",
       "      <td>With a radius of 3.60 meters, the circular are...</td>\n",
       "      <td>&lt;?xml version=\"1.00\" ?&gt;\\n&lt;config&gt;\\n  &lt;swarm-el...</td>\n",
       "      <td>MissionParams(arena_params=CircularArena(radiu...</td>\n",
       "      <td>&lt;?xml version=\"1.00\" ?&gt;\\n&lt;argos-configuration&gt;...</td>\n",
       "      <td>--nroot 3 --nchildroot 1 --n0 0 --nchild0 2 --...</td>\n",
       "      <td>[0.166667, 0.111111, 0.555556, 0.222222, 0.388...</td>\n",
       "      <td>0.300000</td>\n",
       "      <td>Aggregation</td>\n",
       "      <td>UniformLights</td>\n",
       "      <td>CircularArena</td>\n",
       "      <td>CenteredSwarm</td>\n",
       "      <td>white</td>\n",
       "    </tr>\n",
       "    <tr>\n",
       "      <th>2</th>\n",
       "      <td>11</td>\n",
       "      <td>The environment is constructed as a rectangula...</td>\n",
       "      <td>&lt;?xml version=\"1.00\" ?&gt;\\n&lt;config&gt;\\n  &lt;swarm-el...</td>\n",
       "      <td>MissionParams(arena_params=RectangularArena(le...</td>\n",
       "      <td>&lt;?xml version=\"1.00\" ?&gt;\\n&lt;argos-configuration&gt;...</td>\n",
       "      <td>--nroot 3 --nchildroot 4 --n0 0 --nchild0 2 --...</td>\n",
       "      <td>[0.363636, 0.272727, 0.318182, 0.181818, 0.363...</td>\n",
       "      <td>0.322727</td>\n",
       "      <td>Aggregation</td>\n",
       "      <td>UniformLights</td>\n",
       "      <td>RectangularArena</td>\n",
       "      <td>CenteredSwarm</td>\n",
       "      <td>white</td>\n",
       "    </tr>\n",
       "    <tr>\n",
       "      <th>3</th>\n",
       "      <td>14</td>\n",
       "      <td>With a length of 6.43 meters, width of 6.39 me...</td>\n",
       "      <td>&lt;?xml version=\"1.00\" ?&gt;\\n&lt;config&gt;\\n  &lt;swarm-el...</td>\n",
       "      <td>MissionParams(arena_params=RectangularArena(le...</td>\n",
       "      <td>&lt;?xml version=\"1.00\" ?&gt;\\n&lt;argos-configuration&gt;...</td>\n",
       "      <td>--nroot 3 --nchildroot 2 --n0 0 --nchild0 2 --...</td>\n",
       "      <td>[0.9375, 0.75, 0.8125, 0.9375, 0.875, 0.875, 0...</td>\n",
       "      <td>0.875000</td>\n",
       "      <td>Aggregation</td>\n",
       "      <td>TargetLights</td>\n",
       "      <td>RectangularArena</td>\n",
       "      <td>CenteredSwarm</td>\n",
       "      <td>white</td>\n",
       "    </tr>\n",
       "    <tr>\n",
       "      <th>4</th>\n",
       "      <td>17</td>\n",
       "      <td>A rectangular area, with a length of 1.65 mete...</td>\n",
       "      <td>&lt;?xml version=\"1.00\" ?&gt;\\n&lt;config&gt;\\n  &lt;swarm-el...</td>\n",
       "      <td>MissionParams(arena_params=RectangularArena(le...</td>\n",
       "      <td>&lt;?xml version=\"1.00\" ?&gt;\\n&lt;argos-configuration&gt;...</td>\n",
       "      <td>--nroot 3 --nchildroot 4 --n0 0 --nchild0 2 --...</td>\n",
       "      <td>[0.9375, 1.0, 1.0, 1.0, 1.0, 1.0, 1.0, 1.0, 1....</td>\n",
       "      <td>0.987500</td>\n",
       "      <td>Aggregation</td>\n",
       "      <td>TargetLights</td>\n",
       "      <td>RectangularArena</td>\n",
       "      <td>CenteredSwarm</td>\n",
       "      <td>black</td>\n",
       "    </tr>\n",
       "  </tbody>\n",
       "</table>\n",
       "</div>"
      ],
      "text/plain": [
       "   index                                        description  \\\n",
       "0      1  The arena has a radius of 2.56 m. At the black...   \n",
       "1      9  With a radius of 3.60 meters, the circular are...   \n",
       "2     11  The environment is constructed as a rectangula...   \n",
       "3     14  With a length of 6.43 meters, width of 6.39 me...   \n",
       "4     17  A rectangular area, with a length of 1.65 mete...   \n",
       "\n",
       "                                       configuration  \\\n",
       "0  <?xml version=\"1.00\" ?>\\n<config>\\n  <swarm-el...   \n",
       "1  <?xml version=\"1.00\" ?>\\n<config>\\n  <swarm-el...   \n",
       "2  <?xml version=\"1.00\" ?>\\n<config>\\n  <swarm-el...   \n",
       "3  <?xml version=\"1.00\" ?>\\n<config>\\n  <swarm-el...   \n",
       "4  <?xml version=\"1.00\" ?>\\n<config>\\n  <swarm-el...   \n",
       "\n",
       "                                          parameters  \\\n",
       "0  MissionParams(arena_params=CircularArena(radiu...   \n",
       "1  MissionParams(arena_params=CircularArena(radiu...   \n",
       "2  MissionParams(arena_params=RectangularArena(le...   \n",
       "3  MissionParams(arena_params=RectangularArena(le...   \n",
       "4  MissionParams(arena_params=RectangularArena(le...   \n",
       "\n",
       "                                               argos  \\\n",
       "0  <?xml version=\"1.00\" ?>\\n<argos-configuration>...   \n",
       "1  <?xml version=\"1.00\" ?>\\n<argos-configuration>...   \n",
       "2  <?xml version=\"1.00\" ?>\\n<argos-configuration>...   \n",
       "3  <?xml version=\"1.00\" ?>\\n<argos-configuration>...   \n",
       "4  <?xml version=\"1.00\" ?>\\n<argos-configuration>...   \n",
       "\n",
       "                                       behavior_tree  \\\n",
       "0  --nroot 3 --nchildroot 4 --n0 0 --nchild0 2 --...   \n",
       "1  --nroot 3 --nchildroot 1 --n0 0 --nchild0 2 --...   \n",
       "2  --nroot 3 --nchildroot 4 --n0 0 --nchild0 2 --...   \n",
       "3  --nroot 3 --nchildroot 2 --n0 0 --nchild0 2 --...   \n",
       "4  --nroot 3 --nchildroot 4 --n0 0 --nchild0 2 --...   \n",
       "\n",
       "                                              scores  avg_score         type  \\\n",
       "0  [0.636364, 0.818182, 0.727273, 0.727273, 0.727...   0.722727  Aggregation   \n",
       "1  [0.166667, 0.111111, 0.555556, 0.222222, 0.388...   0.300000  Aggregation   \n",
       "2  [0.363636, 0.272727, 0.318182, 0.181818, 0.363...   0.322727  Aggregation   \n",
       "3  [0.9375, 0.75, 0.8125, 0.9375, 0.875, 0.875, 0...   0.875000  Aggregation   \n",
       "4  [0.9375, 1.0, 1.0, 1.0, 1.0, 1.0, 1.0, 1.0, 1....   0.987500  Aggregation   \n",
       "\n",
       "      lightstype         arenatype     robotstype target_color  \n",
       "0   TargetLights     CircularArena  CenteredSwarm        black  \n",
       "1  UniformLights     CircularArena  CenteredSwarm        white  \n",
       "2  UniformLights  RectangularArena  CenteredSwarm        white  \n",
       "3   TargetLights  RectangularArena  CenteredSwarm        white  \n",
       "4   TargetLights  RectangularArena  CenteredSwarm        black  "
      ]
     },
     "execution_count": 16,
     "metadata": {},
     "output_type": "execute_result"
    }
   ],
   "source": [
    "def shorten_color_string(c):\n",
    "    if c == \"GroundColor.BLACK\":\n",
    "        return \"black\"\n",
    "    else:\n",
    "        return \"white\"\n",
    "    \n",
    "def map_agg_color(obj):\n",
    "    if obj.objective_params.agg_target == 1:\n",
    "        return str(obj.objective_params.ground_area_1.color)\n",
    "    else:\n",
    "        return str(obj.objective_params.ground_area_2.color)\n",
    "    \n",
    "agg_df = shuffled_df[shuffled_df.type == \"Aggregation\"].copy().reset_index()\n",
    "agg_colors = agg_df.apply(lambda row: shorten_color_string(map_agg_color(row[\"parameters\"])), axis=1)\n",
    "agg_df = pd.concat([agg_df,agg_colors], axis=1).rename(columns={0: \"target_color\"})\n",
    "agg_df.head()"
   ]
  },
  {
   "cell_type": "code",
   "execution_count": 17,
   "metadata": {},
   "outputs": [
    {
     "data": {
      "text/plain": [
       "(491, 458)"
      ]
     },
     "execution_count": 17,
     "metadata": {},
     "output_type": "execute_result"
    }
   ],
   "source": [
    "white_aggs = agg_df[agg_df.target_color == \"white\"].reset_index()\n",
    "black_aggs = agg_df[agg_df.target_color == \"black\"].reset_index()\n",
    "len(white_aggs), len(black_aggs)"
   ]
  },
  {
   "cell_type": "code",
   "execution_count": 18,
   "metadata": {},
   "outputs": [],
   "source": [
    "white_aggs[:450].to_pickle(\"../ressources/final_experiments/automode_datasets/df_aggregation_only_white.pickle\")\n",
    "black_aggs[:450].to_pickle(\"../ressources/final_experiments/automode_datasets/df_aggregation_only_black.pickle\")"
   ]
  },
  {
   "cell_type": "markdown",
   "metadata": {},
   "source": [
    "### guided env split"
   ]
  },
  {
   "cell_type": "code",
   "execution_count": 19,
   "metadata": {},
   "outputs": [
    {
     "data": {
      "text/plain": [
       "(1261, 2401)"
      ]
     },
     "execution_count": 19,
     "metadata": {},
     "output_type": "execute_result"
    }
   ],
   "source": [
    "guided_env_exp_guided = shuffled_df[shuffled_df.lightstype == \"TargetLights\"].reset_index()\n",
    "guided_env_exp_nonguided = shuffled_df[shuffled_df.lightstype != \"TargetLights\"].reset_index()\n",
    "\n",
    "len(guided_env_exp_guided), len(guided_env_exp_nonguided)"
   ]
  },
  {
   "cell_type": "code",
   "execution_count": 20,
   "metadata": {},
   "outputs": [],
   "source": [
    "white_aggs[:1250].to_pickle(\"../ressources/final_experiments/automode_datasets/df_guided_uniform.pickle\")\n",
    "black_aggs[:1250].to_pickle(\"../ressources/final_experiments/automode_datasets/df_guided_targeted.pickle\")"
   ]
  },
  {
   "cell_type": "markdown",
   "metadata": {},
   "source": [
    "### leave one out (no aggregation)"
   ]
  },
  {
   "cell_type": "code",
   "execution_count": 21,
   "metadata": {},
   "outputs": [
    {
     "data": {
      "text/plain": [
       "(949, 2713)"
      ]
     },
     "execution_count": 21,
     "metadata": {},
     "output_type": "execute_result"
    }
   ],
   "source": [
    "df_loo_agg = shuffled_df[shuffled_df.type == \"Aggregation\"].reset_index()\n",
    "df_loo_no_agg = shuffled_df[shuffled_df.type != \"Aggregation\"].reset_index()\n",
    "len(df_loo_agg), len(df_loo_no_agg)"
   ]
  },
  {
   "cell_type": "code",
   "execution_count": 22,
   "metadata": {},
   "outputs": [],
   "source": [
    "df_loo_agg.to_pickle(\"../ressources/final_experiments/automode_datasets/df_leaveoneout_agg.pickle\")\n",
    "df_loo_agg.to_pickle(\"../ressources/final_experiments/automode_datasets/df_leaveoneout_noagg.pickle\")"
   ]
  },
  {
   "cell_type": "markdown",
   "metadata": {},
   "source": [
    "### formal descriptions"
   ]
  },
  {
   "cell_type": "code",
   "execution_count": 23,
   "metadata": {},
   "outputs": [
    {
     "name": "stdout",
     "output_type": "stream",
     "text": [
      "<?xml version=\"1.00\" ?>\n",
      "<config>\n",
      "  <swarm-elems>\n",
      "    <entity quantity=\"21\" max_trials=\"100\">\n",
      "      <e-puck id=\"epuck\">\n",
      "        <controller config=\"automode_bt\"/>\n",
      "      </e-puck>\n",
      "    </entity>\n",
      "  </swarm-elems>\n",
      "  <env-elems>\n",
      "    <light id=\"light_0\" position=\"0.42,0.11,0.00\" orientation=\"360,0,0\" color=\"yellow\" intensity=\"3.25\" medium=\"leds\"/>\n",
      "    <light id=\"light_1\" position=\"-0.71,1.10,0.00\" orientation=\"360,0,0\" color=\"yellow\" intensity=\"4.26\" medium=\"leds\"/>\n",
      "    <light id=\"light_2\" position=\"-1.64,1.67,0.00\" orientation=\"360,0,0\" color=\"yellow\" intensity=\"5.50\" medium=\"leds\"/>\n",
      "    <box id=\"wall_0\" size=\"0.01,5.40,0.10\" movable=\"false\">\n",
      "      <body position=\"1.91,1.91,0\" orientation=\"45.00,0,0\"/>\n",
      "    </box>\n",
      "    <box id=\"wall_1\" size=\"0.01,5.40,0.10\" movable=\"false\">\n",
      "      <body position=\"-1.91,1.91,0\" orientation=\"135.00,0,0\"/>\n",
      "    </box>\n",
      "    <box id=\"wall_2\" size=\"0.01,5.40,0.10\" movable=\"false\">\n",
      "      <body position=\"-1.91,-1.91,0\" orientation=\"-135.00,0,0\"/>\n",
      "    </box>\n",
      "    <box id=\"wall_3\" size=\"0.01,5.40,0.10\" movable=\"false\">\n",
      "      <body position=\"1.91,-1.91,0\" orientation=\"-45.00,0,0\"/>\n",
      "    </box>\n",
      "    <arena-attrib size=\"9.64,9.64,1.64\"/>\n",
      "  </env-elems>\n",
      "  <objective-elems>\n",
      "    <spawnCircle position=\"0,0,0\" radius=\"2.39\"/>\n",
      "    <circle position=\"-1.69,0.06\" radius=\"0.26\" color=\"white\"/>\n",
      "    <circle position=\"1.20,-1.73\" radius=\"0.59\" color=\"black\"/>\n",
      "    <objective type=\"foraging\">\n",
      "      <objective-params source=\"black\" sink=\"white\"/>\n",
      "    </objective>\n",
      "  </objective-elems>\n",
      "</config>\n"
     ]
    }
   ],
   "source": [
    "df_formal = shuffled_df.copy()\n",
    "df_formal[\"description\"] = df_formal[\"configuration\"]\n",
    "print(df_formal.iloc[0].description)"
   ]
  },
  {
   "cell_type": "code",
   "execution_count": 24,
   "metadata": {},
   "outputs": [],
   "source": [
    "df_formal.to_pickle(\"../ressources/final_experiments/automode_datasets/df_formal_descriptions.pickle\")"
   ]
  },
  {
   "cell_type": "markdown",
   "metadata": {},
   "source": [
    "todo these splits should always be same size"
   ]
  }
 ],
 "metadata": {
  "kernelspec": {
   "display_name": "automode_llm",
   "language": "python",
   "name": "python3"
  },
  "language_info": {
   "codemirror_mode": {
    "name": "ipython",
    "version": 3
   },
   "file_extension": ".py",
   "mimetype": "text/x-python",
   "name": "python",
   "nbconvert_exporter": "python",
   "pygments_lexer": "ipython3",
   "version": "3.10.0"
  }
 },
 "nbformat": 4,
 "nbformat_minor": 2
}
