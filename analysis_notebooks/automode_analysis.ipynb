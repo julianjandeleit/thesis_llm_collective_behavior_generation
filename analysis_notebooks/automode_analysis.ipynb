{
 "cells": [
  {
   "cell_type": "code",
   "execution_count": 1,
   "metadata": {},
   "outputs": [],
   "source": [
    "%load_ext autoreload\n",
    "%autoreload 2"
   ]
  },
  {
   "cell_type": "code",
   "execution_count": 2,
   "metadata": {},
   "outputs": [],
   "source": [
    "import pandas as pd\n",
    "import numpy as np\n",
    "import pickle\n",
    "import random\n",
    "random.seed(42)\n",
    "np.random.seed(42)"
   ]
  },
  {
   "cell_type": "code",
   "execution_count": 3,
   "metadata": {},
   "outputs": [],
   "source": [
    "with open(\"../ressources/automode_descriptions_evaluated.pickle\", \"rb\") as file:\n",
    "#with open(\"testdata.pkl\", \"rb\") as file:\n",
    "    original_df = pickle.load(file)"
   ]
  },
  {
   "cell_type": "code",
   "execution_count": 4,
   "metadata": {},
   "outputs": [],
   "source": [
    "original_df[\"type\"] = original_df[\"parameters\"].map(lambda x: type(x.objective_params).__name__)\n",
    "original_df[\"original_index\"] = original_df.index"
   ]
  },
  {
   "cell_type": "code",
   "execution_count": 5,
   "metadata": {},
   "outputs": [
    {
     "name": "stdout",
     "output_type": "stream",
     "text": [
      " Aggregation:  old_size=85 new_size=65: ratio: 0.7647058823529411\n",
      " Connection:  old_size=98 new_size=70: ratio: 0.7142857142857143\n",
      " Distribution:  old_size=114 new_size=78: ratio: 0.6842105263157895\n",
      " Foraging:  old_size=103 new_size=77: ratio: 0.7475728155339806\n"
     ]
    }
   ],
   "source": [
    "group_dfs = {category: group.reset_index(drop=True) for category, group in original_df.groupby(\"type\")}\n",
    "\n",
    "for group, df in group_dfs.items():\n",
    "    old_size = len(df)\n",
    "    cleaned = df.dropna()\n",
    "    new_size = len(cleaned)\n",
    "    print(f\" {group}:  {old_size=} {new_size=}: ratio: {new_size/float(old_size)}\")\n",
    "    group_dfs[group] = cleaned"
   ]
  },
  {
   "cell_type": "code",
   "execution_count": 6,
   "metadata": {},
   "outputs": [
    {
     "data": {
      "text/html": [
       "<div>\n",
       "<style scoped>\n",
       "    .dataframe tbody tr th:only-of-type {\n",
       "        vertical-align: middle;\n",
       "    }\n",
       "\n",
       "    .dataframe tbody tr th {\n",
       "        vertical-align: top;\n",
       "    }\n",
       "\n",
       "    .dataframe thead th {\n",
       "        text-align: right;\n",
       "    }\n",
       "</style>\n",
       "<table border=\"1\" class=\"dataframe\">\n",
       "  <thead>\n",
       "    <tr style=\"text-align: right;\">\n",
       "      <th></th>\n",
       "      <th>description</th>\n",
       "      <th>configuration</th>\n",
       "      <th>parameters</th>\n",
       "      <th>argos</th>\n",
       "      <th>behavior_tree</th>\n",
       "      <th>scores</th>\n",
       "      <th>avg_score</th>\n",
       "      <th>type</th>\n",
       "    </tr>\n",
       "  </thead>\n",
       "  <tbody>\n",
       "    <tr>\n",
       "      <th>0</th>\n",
       "      <td>A rectangular area, with a length of 2.43 mete...</td>\n",
       "      <td>&lt;?xml version=\"1.00\" ?&gt;\\n&lt;config&gt;\\n  &lt;swarm-el...</td>\n",
       "      <td>MissionParams(arena_params=RectangularArena(le...</td>\n",
       "      <td>&lt;?xml version=\"1.00\" ?&gt;\\n&lt;argos-configuration&gt;...</td>\n",
       "      <td>--nroot 3 --nchildroot 4 --n0 0 --nchild0 2 --...</td>\n",
       "      <td>[609.375, 545.25, 150.0, 362.625, 601.875, 426...</td>\n",
       "      <td>490.3875</td>\n",
       "      <td>Aggregation</td>\n",
       "    </tr>\n",
       "    <tr>\n",
       "      <th>1</th>\n",
       "      <td>A circle with 4 walls forms the structure of t...</td>\n",
       "      <td>&lt;?xml version=\"1.00\" ?&gt;\\n&lt;config&gt;\\n  &lt;swarm-el...</td>\n",
       "      <td>MissionParams(arena_params=CircularArena(radiu...</td>\n",
       "      <td>&lt;?xml version=\"1.00\" ?&gt;\\n&lt;argos-configuration&gt;...</td>\n",
       "      <td>--nroot 3 --nchildroot 4 --n0 0 --nchild0 2 --...</td>\n",
       "      <td>[368.867, 419.333, 277.667, 284.533, 275.933, ...</td>\n",
       "      <td>346.1600</td>\n",
       "      <td>Aggregation</td>\n",
       "    </tr>\n",
       "    <tr>\n",
       "      <th>5</th>\n",
       "      <td>The area is a rectangle with dimensions 3.09 x...</td>\n",
       "      <td>&lt;?xml version=\"1.00\" ?&gt;\\n&lt;config&gt;\\n  &lt;swarm-el...</td>\n",
       "      <td>MissionParams(arena_params=RectangularArena(le...</td>\n",
       "      <td>&lt;?xml version=\"1.00\" ?&gt;\\n&lt;argos-configuration&gt;...</td>\n",
       "      <td>--nroot 3 --nchildroot 4 --n0 0 --nchild0 2 --...</td>\n",
       "      <td>[610.3, 484.9, 630.8, 703.9, 687.9, 436.4, 452...</td>\n",
       "      <td>558.7400</td>\n",
       "      <td>Aggregation</td>\n",
       "    </tr>\n",
       "    <tr>\n",
       "      <th>6</th>\n",
       "      <td>With a radius of 3.64 meters, the circular are...</td>\n",
       "      <td>&lt;?xml version=\"1.00\" ?&gt;\\n&lt;config&gt;\\n  &lt;swarm-el...</td>\n",
       "      <td>MissionParams(arena_params=CircularArena(radiu...</td>\n",
       "      <td>&lt;?xml version=\"1.00\" ?&gt;\\n&lt;argos-configuration&gt;...</td>\n",
       "      <td>--nroot 3 --nchildroot 3 --n0 0 --nchild0 2 --...</td>\n",
       "      <td>[719.909, 704.909, 279.545, 652.364, 647.182, ...</td>\n",
       "      <td>554.6454</td>\n",
       "      <td>Aggregation</td>\n",
       "    </tr>\n",
       "    <tr>\n",
       "      <th>9</th>\n",
       "      <td>The circular arena, having a radius of 3.50 me...</td>\n",
       "      <td>&lt;?xml version=\"1.00\" ?&gt;\\n&lt;config&gt;\\n  &lt;swarm-el...</td>\n",
       "      <td>MissionParams(arena_params=CircularArena(radiu...</td>\n",
       "      <td>&lt;?xml version=\"1.00\" ?&gt;\\n&lt;argos-configuration&gt;...</td>\n",
       "      <td>--nroot 3 --nchildroot 4 --n0 0 --nchild0 2 --...</td>\n",
       "      <td>[445.8, 250.4, 255.68, 207.12, 206.28, 204.68,...</td>\n",
       "      <td>251.0800</td>\n",
       "      <td>Aggregation</td>\n",
       "    </tr>\n",
       "    <tr>\n",
       "      <th>...</th>\n",
       "      <td>...</td>\n",
       "      <td>...</td>\n",
       "      <td>...</td>\n",
       "      <td>...</td>\n",
       "      <td>...</td>\n",
       "      <td>...</td>\n",
       "      <td>...</td>\n",
       "      <td>...</td>\n",
       "    </tr>\n",
       "    <tr>\n",
       "      <th>80</th>\n",
       "      <td>The environment is a circle made out of 4 wall...</td>\n",
       "      <td>&lt;?xml version=\"1.00\" ?&gt;\\n&lt;config&gt;\\n  &lt;swarm-el...</td>\n",
       "      <td>MissionParams(arena_params=CircularArena(radiu...</td>\n",
       "      <td>&lt;?xml version=\"1.00\" ?&gt;\\n&lt;argos-configuration&gt;...</td>\n",
       "      <td>--nroot 3 --nchildroot 3 --n0 0 --nchild0 2 --...</td>\n",
       "      <td>[642.87, 612.783, 546.304, 574.391, 488.043, 6...</td>\n",
       "      <td>580.8001</td>\n",
       "      <td>Aggregation</td>\n",
       "    </tr>\n",
       "    <tr>\n",
       "      <th>81</th>\n",
       "      <td>The environment consists of a rectangular area...</td>\n",
       "      <td>&lt;?xml version=\"1.00\" ?&gt;\\n&lt;config&gt;\\n  &lt;swarm-el...</td>\n",
       "      <td>MissionParams(arena_params=RectangularArena(le...</td>\n",
       "      <td>&lt;?xml version=\"1.00\" ?&gt;\\n&lt;argos-configuration&gt;...</td>\n",
       "      <td>--nroot 3 --nchildroot 4 --n0 0 --nchild0 2 --...</td>\n",
       "      <td>[391.0, 542.778, 312.444, 806.778, 418.333, 41...</td>\n",
       "      <td>551.4888</td>\n",
       "      <td>Aggregation</td>\n",
       "    </tr>\n",
       "    <tr>\n",
       "      <th>82</th>\n",
       "      <td>The environment is a rectangular area with len...</td>\n",
       "      <td>&lt;?xml version=\"1.00\" ?&gt;\\n&lt;config&gt;\\n  &lt;swarm-el...</td>\n",
       "      <td>MissionParams(arena_params=RectangularArena(le...</td>\n",
       "      <td>&lt;?xml version=\"1.00\" ?&gt;\\n&lt;argos-configuration&gt;...</td>\n",
       "      <td>--nroot 3 --nchildroot 4 --n0 0 --nchild0 2 --...</td>\n",
       "      <td>[517.75, 493.25, 504.083, 515.833, 497.75, 486...</td>\n",
       "      <td>514.5750</td>\n",
       "      <td>Aggregation</td>\n",
       "    </tr>\n",
       "    <tr>\n",
       "      <th>83</th>\n",
       "      <td>The environment is a rectangular area with len...</td>\n",
       "      <td>&lt;?xml version=\"1.00\" ?&gt;\\n&lt;config&gt;\\n  &lt;swarm-el...</td>\n",
       "      <td>MissionParams(arena_params=RectangularArena(le...</td>\n",
       "      <td>&lt;?xml version=\"1.00\" ?&gt;\\n&lt;argos-configuration&gt;...</td>\n",
       "      <td>--nroot 3 --nchildroot 3 --n0 0 --nchild0 2 --...</td>\n",
       "      <td>[366.188, 405.875, 507.375, 342.25, 246.125, 4...</td>\n",
       "      <td>365.2064</td>\n",
       "      <td>Aggregation</td>\n",
       "    </tr>\n",
       "    <tr>\n",
       "      <th>84</th>\n",
       "      <td>With a radius of 1.51 meters, the circular are...</td>\n",
       "      <td>&lt;?xml version=\"1.00\" ?&gt;\\n&lt;config&gt;\\n  &lt;swarm-el...</td>\n",
       "      <td>MissionParams(arena_params=CircularArena(radiu...</td>\n",
       "      <td>&lt;?xml version=\"1.00\" ?&gt;\\n&lt;argos-configuration&gt;...</td>\n",
       "      <td>--nroot 3 --nchildroot 4 --n0 0 --nchild0 2 --...</td>\n",
       "      <td>[599.5, 698.833, 343.5, 855.5, 517.0, 501.667,...</td>\n",
       "      <td>553.0500</td>\n",
       "      <td>Aggregation</td>\n",
       "    </tr>\n",
       "  </tbody>\n",
       "</table>\n",
       "<p>65 rows × 8 columns</p>\n",
       "</div>"
      ],
      "text/plain": [
       "                                          description  \\\n",
       "0   A rectangular area, with a length of 2.43 mete...   \n",
       "1   A circle with 4 walls forms the structure of t...   \n",
       "5   The area is a rectangle with dimensions 3.09 x...   \n",
       "6   With a radius of 3.64 meters, the circular are...   \n",
       "9   The circular arena, having a radius of 3.50 me...   \n",
       "..                                                ...   \n",
       "80  The environment is a circle made out of 4 wall...   \n",
       "81  The environment consists of a rectangular area...   \n",
       "82  The environment is a rectangular area with len...   \n",
       "83  The environment is a rectangular area with len...   \n",
       "84  With a radius of 1.51 meters, the circular are...   \n",
       "\n",
       "                                        configuration  \\\n",
       "0   <?xml version=\"1.00\" ?>\\n<config>\\n  <swarm-el...   \n",
       "1   <?xml version=\"1.00\" ?>\\n<config>\\n  <swarm-el...   \n",
       "5   <?xml version=\"1.00\" ?>\\n<config>\\n  <swarm-el...   \n",
       "6   <?xml version=\"1.00\" ?>\\n<config>\\n  <swarm-el...   \n",
       "9   <?xml version=\"1.00\" ?>\\n<config>\\n  <swarm-el...   \n",
       "..                                                ...   \n",
       "80  <?xml version=\"1.00\" ?>\\n<config>\\n  <swarm-el...   \n",
       "81  <?xml version=\"1.00\" ?>\\n<config>\\n  <swarm-el...   \n",
       "82  <?xml version=\"1.00\" ?>\\n<config>\\n  <swarm-el...   \n",
       "83  <?xml version=\"1.00\" ?>\\n<config>\\n  <swarm-el...   \n",
       "84  <?xml version=\"1.00\" ?>\\n<config>\\n  <swarm-el...   \n",
       "\n",
       "                                           parameters  \\\n",
       "0   MissionParams(arena_params=RectangularArena(le...   \n",
       "1   MissionParams(arena_params=CircularArena(radiu...   \n",
       "5   MissionParams(arena_params=RectangularArena(le...   \n",
       "6   MissionParams(arena_params=CircularArena(radiu...   \n",
       "9   MissionParams(arena_params=CircularArena(radiu...   \n",
       "..                                                ...   \n",
       "80  MissionParams(arena_params=CircularArena(radiu...   \n",
       "81  MissionParams(arena_params=RectangularArena(le...   \n",
       "82  MissionParams(arena_params=RectangularArena(le...   \n",
       "83  MissionParams(arena_params=RectangularArena(le...   \n",
       "84  MissionParams(arena_params=CircularArena(radiu...   \n",
       "\n",
       "                                                argos  \\\n",
       "0   <?xml version=\"1.00\" ?>\\n<argos-configuration>...   \n",
       "1   <?xml version=\"1.00\" ?>\\n<argos-configuration>...   \n",
       "5   <?xml version=\"1.00\" ?>\\n<argos-configuration>...   \n",
       "6   <?xml version=\"1.00\" ?>\\n<argos-configuration>...   \n",
       "9   <?xml version=\"1.00\" ?>\\n<argos-configuration>...   \n",
       "..                                                ...   \n",
       "80  <?xml version=\"1.00\" ?>\\n<argos-configuration>...   \n",
       "81  <?xml version=\"1.00\" ?>\\n<argos-configuration>...   \n",
       "82  <?xml version=\"1.00\" ?>\\n<argos-configuration>...   \n",
       "83  <?xml version=\"1.00\" ?>\\n<argos-configuration>...   \n",
       "84  <?xml version=\"1.00\" ?>\\n<argos-configuration>...   \n",
       "\n",
       "                                        behavior_tree  \\\n",
       "0   --nroot 3 --nchildroot 4 --n0 0 --nchild0 2 --...   \n",
       "1   --nroot 3 --nchildroot 4 --n0 0 --nchild0 2 --...   \n",
       "5   --nroot 3 --nchildroot 4 --n0 0 --nchild0 2 --...   \n",
       "6   --nroot 3 --nchildroot 3 --n0 0 --nchild0 2 --...   \n",
       "9   --nroot 3 --nchildroot 4 --n0 0 --nchild0 2 --...   \n",
       "..                                                ...   \n",
       "80  --nroot 3 --nchildroot 3 --n0 0 --nchild0 2 --...   \n",
       "81  --nroot 3 --nchildroot 4 --n0 0 --nchild0 2 --...   \n",
       "82  --nroot 3 --nchildroot 4 --n0 0 --nchild0 2 --...   \n",
       "83  --nroot 3 --nchildroot 3 --n0 0 --nchild0 2 --...   \n",
       "84  --nroot 3 --nchildroot 4 --n0 0 --nchild0 2 --...   \n",
       "\n",
       "                                               scores  avg_score         type  \n",
       "0   [609.375, 545.25, 150.0, 362.625, 601.875, 426...   490.3875  Aggregation  \n",
       "1   [368.867, 419.333, 277.667, 284.533, 275.933, ...   346.1600  Aggregation  \n",
       "5   [610.3, 484.9, 630.8, 703.9, 687.9, 436.4, 452...   558.7400  Aggregation  \n",
       "6   [719.909, 704.909, 279.545, 652.364, 647.182, ...   554.6454  Aggregation  \n",
       "9   [445.8, 250.4, 255.68, 207.12, 206.28, 204.68,...   251.0800  Aggregation  \n",
       "..                                                ...        ...          ...  \n",
       "80  [642.87, 612.783, 546.304, 574.391, 488.043, 6...   580.8001  Aggregation  \n",
       "81  [391.0, 542.778, 312.444, 806.778, 418.333, 41...   551.4888  Aggregation  \n",
       "82  [517.75, 493.25, 504.083, 515.833, 497.75, 486...   514.5750  Aggregation  \n",
       "83  [366.188, 405.875, 507.375, 342.25, 246.125, 4...   365.2064  Aggregation  \n",
       "84  [599.5, 698.833, 343.5, 855.5, 517.0, 501.667,...   553.0500  Aggregation  \n",
       "\n",
       "[65 rows x 8 columns]"
      ]
     },
     "execution_count": 6,
     "metadata": {},
     "output_type": "execute_result"
    }
   ],
   "source": [
    "group_dfs[\"Aggregation\"]"
   ]
  },
  {
   "cell_type": "code",
   "execution_count": 7,
   "metadata": {},
   "outputs": [
    {
     "data": {
      "image/png": "[encoded data removed]",
      "text/plain": [
       "<Figure size 1000x600 with 1 Axes>"
      ]
     },
     "metadata": {},
     "output_type": "display_data"
    },
    {
     "data": {
      "image/png": "[encoded data removed]",
      "text/plain": [
       "<Figure size 1000x600 with 1 Axes>"
      ]
     },
     "metadata": {},
     "output_type": "display_data"
    },
    {
     "data": {
      "image/png": "[encoded data removed]",
      "text/plain": [
       "<Figure size 1000x600 with 1 Axes>"
      ]
     },
     "metadata": {},
     "output_type": "display_data"
    },
    {
     "data": {
      "image/png": "[encoded data removed]",
      "text/plain": [
       "<Figure size 1000x600 with 1 Axes>"
      ]
     },
     "metadata": {},
     "output_type": "display_data"
    }
   ],
   "source": [
    "import seaborn as sns\n",
    "import matplotlib.pyplot as plt\n",
    "import numpy as np\n",
    "\n",
    "for group, df in group_dfs.items():\n",
    "    # Sample data\n",
    "    data = df.avg_score.to_numpy()\n",
    "\n",
    "    plt.figure(figsize=(10, 6))\n",
    "    sns.histplot(data, bins=30, kde=True, color='blue', alpha=0.5)\n",
    "    plt.title(f\"Histogram and KDE of Data Points: {group}\")\n",
    "    plt.xlabel('Value')\n",
    "    plt.ylabel('Frequency')\n",
    "    plt.grid()\n",
    "    plt.show()\n"
   ]
  },
  {
   "cell_type": "code",
   "execution_count": 9,
   "metadata": {},
   "outputs": [
    {
     "data": {
      "application/vnd.plotly.v1+json": {
       "config": {
        "plotlyServerURL": "https://plot.ly"
       },
       "data": [
        {
         "alignmentgroup": "True",
         "bingroup": "x",
         "hovertemplate": "variable=0<br>Value=%{x}<br>count=%{y}<extra></extra>",
         "legendgroup": "0",
         "marker": {
          "color": "#636efa",
          "pattern": {
           "shape": ""
          }
         },
         "name": "0",
         "nbinsx": 30,
         "offsetgroup": "0",
         "orientation": "v",
         "showlegend": true,
         "type": "histogram",
         "x": [
          490.3875,
          346.15999999999997,
          558.74,
          554.6454,
          251.07999999999998,
          630.728,
          1131.0620000000001,
          251.1833,
          669.1285,
          441.5786,
          471.75,
          475.65020000000004,
          595.2429,
          528.9317000000001,
          407.4308,
          416.16819999999996,
          1004.0919,
          333.3477,
          229.94456,
          1154.2,
          446.7401,
          466.34,
          391.4084,
          599.0215000000001,
          219.6669,
          350.275,
          512.9777,
          805.9399999999999,
          201.38559899999998,
          88.80003,
          251.9,
          543.8412,
          974.3996,
          230.92399999999998,
          572.0043000000001,
          343.89329999999995,
          183.9249,
          549.9165999999999,
          352.45889999999997,
          530.1524999999999,
          355.35,
          417.45,
          497.61109999999996,
          125.81676999999999,
          375.5818,
          632.825,
          380.6094,
          1181.6280000000002,
          104.13048,
          525.8588,
          692.8313,
          623.175,
          500.09980000000013,
          470.9875,
          343.7625,
          501.925,
          606.1612,
          674.7634999999999,
          759.5999999999999,
          168.7667067,
          580.8001000000002,
          551.4888,
          514.575,
          365.20640000000003,
          553.05
         ],
         "xaxis": "x",
         "yaxis": "y"
        }
       ],
       "layout": {
        "barmode": "relative",
        "legend": {
         "title": {
          "text": "variable"
         },
         "tracegroupgap": 0
        },
        "template": {
         "data": {
          "bar": [
           {
            "error_x": {
             "color": "#2a3f5f"
            },
            "error_y": {
             "color": "#2a3f5f"
            },
            "marker": {
             "line": {
              "color": "#E5ECF6",
              "width": 0.5
             },
             "pattern": {
              "fillmode": "overlay",
              "size": 10,
              "solidity": 0.2
             }
            },
            "type": "bar"
           }
          ],
          "barpolar": [
           {
            "marker": {
             "line": {
              "color": "#E5ECF6",
              "width": 0.5
             },
             "pattern": {
              "fillmode": "overlay",
              "size": 10,
              "solidity": 0.2
             }
            },
            "type": "barpolar"
           }
          ],
          "carpet": [
           {
            "aaxis": {
             "endlinecolor": "#2a3f5f",
             "gridcolor": "white",
             "linecolor": "white",
             "minorgridcolor": "white",
             "startlinecolor": "#2a3f5f"
            },
            "baxis": {
             "endlinecolor": "#2a3f5f",
             "gridcolor": "white",
             "linecolor": "white",
             "minorgridcolor": "white",
             "startlinecolor": "#2a3f5f"
            },
            "type": "carpet"
           }
          ],
          "choropleth": [
           {
            "colorbar": {
             "outlinewidth": 0,
             "ticks": ""
            },
            "type": "choropleth"
           }
          ],
          "contour": [
           {
            "colorbar": {
             "outlinewidth": 0,
             "ticks": ""
            },
            "colorscale": [
             [
              0,
              "#0d0887"
             ],
             [
              0.1111111111111111,
              "#46039f"
             ],
             [
              0.2222222222222222,
              "#7201a8"
             ],
             [
              0.3333333333333333,
              "#9c179e"
             ],
             [
              0.4444444444444444,
              "#bd3786"
             ],
             [
              0.5555555555555556,
              "#d8576b"
             ],
             [
              0.6666666666666666,
              "#ed7953"
             ],
             [
              0.7777777777777778,
              "#fb9f3a"
             ],
             [
              0.8888888888888888,
              "#fdca26"
             ],
             [
              1,
              "#f0f921"
             ]
            ],
            "type": "contour"
           }
          ],
          "contourcarpet": [
           {
            "colorbar": {
             "outlinewidth": 0,
             "ticks": ""
            },
            "type": "contourcarpet"
           }
          ],
          "heatmap": [
           {
            "colorbar": {
             "outlinewidth": 0,
             "ticks": ""
            },
            "colorscale": [
             [
              0,
              "#0d0887"
             ],
             [
              0.1111111111111111,
              "#46039f"
             ],
             [
              0.2222222222222222,
              "#7201a8"
             ],
             [
              0.3333333333333333,
              "#9c179e"
             ],
             [
              0.4444444444444444,
              "#bd3786"
             ],
             [
              0.5555555555555556,
              "#d8576b"
             ],
             [
              0.6666666666666666,
              "#ed7953"
             ],
             [
              0.7777777777777778,
              "#fb9f3a"
             ],
             [
              0.8888888888888888,
              "#fdca26"
             ],
             [
              1,
              "#f0f921"
             ]
            ],
            "type": "heatmap"
           }
          ],
          "heatmapgl": [
           {
            "colorbar": {
             "outlinewidth": 0,
             "ticks": ""
            },
            "colorscale": [
             [
              0,
              "#0d0887"
             ],
             [
              0.1111111111111111,
              "#46039f"
             ],
             [
              0.2222222222222222,
              "#7201a8"
             ],
             [
              0.3333333333333333,
              "#9c179e"
             ],
             [
              0.4444444444444444,
              "#bd3786"
             ],
             [
              0.5555555555555556,
              "#d8576b"
             ],
             [
              0.6666666666666666,
              "#ed7953"
             ],
             [
              0.7777777777777778,
              "#fb9f3a"
             ],
             [
              0.8888888888888888,
              "#fdca26"
             ],
             [
              1,
              "#f0f921"
             ]
            ],
            "type": "heatmapgl"
           }
          ],
          "histogram": [
           {
            "marker": {
             "pattern": {
              "fillmode": "overlay",
              "size": 10,
              "solidity": 0.2
             }
            },
            "type": "histogram"
           }
          ],
          "histogram2d": [
           {
            "colorbar": {
             "outlinewidth": 0,
             "ticks": ""
            },
            "colorscale": [
             [
              0,
              "#0d0887"
             ],
             [
              0.1111111111111111,
              "#46039f"
             ],
             [
              0.2222222222222222,
              "#7201a8"
             ],
             [
              0.3333333333333333,
              "#9c179e"
             ],
             [
              0.4444444444444444,
              "#bd3786"
             ],
             [
              0.5555555555555556,
              "#d8576b"
             ],
             [
              0.6666666666666666,
              "#ed7953"
             ],
             [
              0.7777777777777778,
              "#fb9f3a"
             ],
             [
              0.8888888888888888,
              "#fdca26"
             ],
             [
              1,
              "#f0f921"
             ]
            ],
            "type": "histogram2d"
           }
          ],
          "histogram2dcontour": [
           {
            "colorbar": {
             "outlinewidth": 0,
             "ticks": ""
            },
            "colorscale": [
             [
              0,
              "#0d0887"
             ],
             [
              0.1111111111111111,
              "#46039f"
             ],
             [
              0.2222222222222222,
              "#7201a8"
             ],
             [
              0.3333333333333333,
              "#9c179e"
             ],
             [
              0.4444444444444444,
              "#bd3786"
             ],
             [
              0.5555555555555556,
              "#d8576b"
             ],
             [
              0.6666666666666666,
              "#ed7953"
             ],
             [
              0.7777777777777778,
              "#fb9f3a"
             ],
             [
              0.8888888888888888,
              "#fdca26"
             ],
             [
              1,
              "#f0f921"
             ]
            ],
            "type": "histogram2dcontour"
           }
          ],
          "mesh3d": [
           {
            "colorbar": {
             "outlinewidth": 0,
             "ticks": ""
            },
            "type": "mesh3d"
           }
          ],
          "parcoords": [
           {
            "line": {
             "colorbar": {
              "outlinewidth": 0,
              "ticks": ""
             }
            },
            "type": "parcoords"
           }
          ],
          "pie": [
           {
            "automargin": true,
            "type": "pie"
           }
          ],
          "scatter": [
           {
            "fillpattern": {
             "fillmode": "overlay",
             "size": 10,
             "solidity": 0.2
            },
            "type": "scatter"
           }
          ],
          "scatter3d": [
           {
            "line": {
             "colorbar": {
              "outlinewidth": 0,
              "ticks": ""
             }
            },
            "marker": {
             "colorbar": {
              "outlinewidth": 0,
              "ticks": ""
             }
            },
            "type": "scatter3d"
           }
          ],
          "scattercarpet": [
           {
            "marker": {
             "colorbar": {
              "outlinewidth": 0,
              "ticks": ""
             }
            },
            "type": "scattercarpet"
           }
          ],
          "scattergeo": [
           {
            "marker": {
             "colorbar": {
              "outlinewidth": 0,
              "ticks": ""
             }
            },
            "type": "scattergeo"
           }
          ],
          "scattergl": [
           {
            "marker": {
             "colorbar": {
              "outlinewidth": 0,
              "ticks": ""
             }
            },
            "type": "scattergl"
           }
          ],
          "scattermapbox": [
           {
            "marker": {
             "colorbar": {
              "outlinewidth": 0,
              "ticks": ""
             }
            },
            "type": "scattermapbox"
           }
          ],
          "scatterpolar": [
           {
            "marker": {
             "colorbar": {
              "outlinewidth": 0,
              "ticks": ""
             }
            },
            "type": "scatterpolar"
           }
          ],
          "scatterpolargl": [
           {
            "marker": {
             "colorbar": {
              "outlinewidth": 0,
              "ticks": ""
             }
            },
            "type": "scatterpolargl"
           }
          ],
          "scatterternary": [
           {
            "marker": {
             "colorbar": {
              "outlinewidth": 0,
              "ticks": ""
             }
            },
            "type": "scatterternary"
           }
          ],
          "surface": [
           {
            "colorbar": {
             "outlinewidth": 0,
             "ticks": ""
            },
            "colorscale": [
             [
              0,
              "#0d0887"
             ],
             [
              0.1111111111111111,
              "#46039f"
             ],
             [
              0.2222222222222222,
              "#7201a8"
             ],
             [
              0.3333333333333333,
              "#9c179e"
             ],
             [
              0.4444444444444444,
              "#bd3786"
             ],
             [
              0.5555555555555556,
              "#d8576b"
             ],
             [
              0.6666666666666666,
              "#ed7953"
             ],
             [
              0.7777777777777778,
              "#fb9f3a"
             ],
             [
              0.8888888888888888,
              "#fdca26"
             ],
             [
              1,
              "#f0f921"
             ]
            ],
            "type": "surface"
           }
          ],
          "table": [
           {
            "cells": {
             "fill": {
              "color": "#EBF0F8"
             },
             "line": {
              "color": "white"
             }
            },
            "header": {
             "fill": {
              "color": "#C8D4E3"
             },
             "line": {
              "color": "white"
             }
            },
            "type": "table"
           }
          ]
         },
         "layout": {
          "annotationdefaults": {
           "arrowcolor": "#2a3f5f",
           "arrowhead": 0,
           "arrowwidth": 1
          },
          "autotypenumbers": "strict",
          "coloraxis": {
           "colorbar": {
            "outlinewidth": 0,
            "ticks": ""
           }
          },
          "colorscale": {
           "diverging": [
            [
             0,
             "#8e0152"
            ],
            [
             0.1,
             "#c51b7d"
            ],
            [
             0.2,
             "#de77ae"
            ],
            [
             0.3,
             "#f1b6da"
            ],
            [
             0.4,
             "#fde0ef"
            ],
            [
             0.5,
             "#f7f7f7"
            ],
            [
             0.6,
             "#e6f5d0"
            ],
            [
             0.7,
             "#b8e186"
            ],
            [
             0.8,
             "#7fbc41"
            ],
            [
             0.9,
             "#4d9221"
            ],
            [
             1,
             "#276419"
            ]
           ],
           "sequential": [
            [
             0,
             "#0d0887"
            ],
            [
             0.1111111111111111,
             "#46039f"
            ],
            [
             0.2222222222222222,
             "#7201a8"
            ],
            [
             0.3333333333333333,
             "#9c179e"
            ],
            [
             0.4444444444444444,
             "#bd3786"
            ],
            [
             0.5555555555555556,
             "#d8576b"
            ],
            [
             0.6666666666666666,
             "#ed7953"
            ],
            [
             0.7777777777777778,
             "#fb9f3a"
            ],
            [
             0.8888888888888888,
             "#fdca26"
            ],
            [
             1,
             "#f0f921"
            ]
           ],
           "sequentialminus": [
            [
             0,
             "#0d0887"
            ],
            [
             0.1111111111111111,
             "#46039f"
            ],
            [
             0.2222222222222222,
             "#7201a8"
            ],
            [
             0.3333333333333333,
             "#9c179e"
            ],
            [
             0.4444444444444444,
             "#bd3786"
            ],
            [
             0.5555555555555556,
             "#d8576b"
            ],
            [
             0.6666666666666666,
             "#ed7953"
            ],
            [
             0.7777777777777778,
             "#fb9f3a"
            ],
            [
             0.8888888888888888,
             "#fdca26"
            ],
            [
             1,
             "#f0f921"
            ]
           ]
          },
          "colorway": [
           "#636efa",
           "#EF553B",
           "#00cc96",
           "#ab63fa",
           "#FFA15A",
           "#19d3f3",
           "#FF6692",
           "#B6E880",
           "#FF97FF",
           "#FECB52"
          ],
          "font": {
           "color": "#2a3f5f"
          },
          "geo": {
           "bgcolor": "white",
           "lakecolor": "white",
           "landcolor": "#E5ECF6",
           "showlakes": true,
           "showland": true,
           "subunitcolor": "white"
          },
          "hoverlabel": {
           "align": "left"
          },
          "hovermode": "closest",
          "mapbox": {
           "style": "light"
          },
          "paper_bgcolor": "white",
          "plot_bgcolor": "#E5ECF6",
          "polar": {
           "angularaxis": {
            "gridcolor": "white",
            "linecolor": "white",
            "ticks": ""
           },
           "bgcolor": "#E5ECF6",
           "radialaxis": {
            "gridcolor": "white",
            "linecolor": "white",
            "ticks": ""
           }
          },
          "scene": {
           "xaxis": {
            "backgroundcolor": "#E5ECF6",
            "gridcolor": "white",
            "gridwidth": 2,
            "linecolor": "white",
            "showbackground": true,
            "ticks": "",
            "zerolinecolor": "white"
           },
           "yaxis": {
            "backgroundcolor": "#E5ECF6",
            "gridcolor": "white",
            "gridwidth": 2,
            "linecolor": "white",
            "showbackground": true,
            "ticks": "",
            "zerolinecolor": "white"
           },
           "zaxis": {
            "backgroundcolor": "#E5ECF6",
            "gridcolor": "white",
            "gridwidth": 2,
            "linecolor": "white",
            "showbackground": true,
            "ticks": "",
            "zerolinecolor": "white"
           }
          },
          "shapedefaults": {
           "line": {
            "color": "#2a3f5f"
           }
          },
          "ternary": {
           "aaxis": {
            "gridcolor": "white",
            "linecolor": "white",
            "ticks": ""
           },
           "baxis": {
            "gridcolor": "white",
            "linecolor": "white",
            "ticks": ""
           },
           "bgcolor": "#E5ECF6",
           "caxis": {
            "gridcolor": "white",
            "linecolor": "white",
            "ticks": ""
           }
          },
          "title": {
           "x": 0.05
          },
          "xaxis": {
           "automargin": true,
           "gridcolor": "white",
           "linecolor": "white",
           "ticks": "",
           "title": {
            "standoff": 15
           },
           "zerolinecolor": "white",
           "zerolinewidth": 2
          },
          "yaxis": {
           "automargin": true,
           "gridcolor": "white",
           "linecolor": "white",
           "ticks": "",
           "title": {
            "standoff": 15
           },
           "zerolinecolor": "white",
           "zerolinewidth": 2
          }
         }
        },
        "title": {
         "text": "Histogram of Data Points"
        },
        "xaxis": {
         "anchor": "y",
         "domain": [
          0,
          1
         ],
         "title": {
          "text": "Value"
         }
        },
        "yaxis": {
         "anchor": "x",
         "domain": [
          0,
          1
         ],
         "title": {
          "text": "Frequency"
         }
        }
       }
      }
     },
     "metadata": {},
     "output_type": "display_data"
    }
   ],
   "source": [
    "import plotly.express as px\n",
    "import numpy as np\n",
    "\n",
    "# Sample data\n",
    "data = group_dfs[\"Aggregation\"].avg_score.to_numpy()\n",
    "\n",
    "# Create a KDE plot\n",
    "# fig = px.density_contour(x=data, title='KDE Plot of Data Points', labels={'x': 'Value'})\n",
    "# fig.update_layout(xaxis_title='Value', yaxis_title='Density')\n",
    "# fig.show()\n",
    "\n",
    "# Create a histogram\n",
    "fig = px.histogram(data, nbins=30, title='Histogram of Data Points', labels={'value': 'Value'})\n",
    "fig.update_layout(xaxis_title='Value', yaxis_title='Frequency')\n",
    "fig.show()\n"
   ]
  }
 ],
 "metadata": {
  "kernelspec": {
   "display_name": "Python 3",
   "language": "python",
   "name": "python3"
  },
  "language_info": {
   "codemirror_mode": {
    "name": "ipython",
    "version": 3
   },
   "file_extension": ".py",
   "mimetype": "text/x-python",
   "name": "python",
   "nbconvert_exporter": "python",
   "pygments_lexer": "ipython3",
   "version": "3.10.0"
  }
 },
 "nbformat": 4,
 "nbformat_minor": 2
}
